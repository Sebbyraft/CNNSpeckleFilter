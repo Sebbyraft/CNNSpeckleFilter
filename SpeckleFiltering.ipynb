{
 "cells": [
  {
   "cell_type": "code",
   "execution_count": null,
   "metadata": {
    "executionInfo": {
     "elapsed": 637,
     "status": "ok",
     "timestamp": 1625835793397,
     "user": {
      "displayName": "Alessandro Sebastianelli",
      "photoUrl": "https://lh3.googleusercontent.com/a-/AOh14GgVWBLvEG9yF5gq_rkIyj5MCLQv1OzgwlLWxu7e=s64",
      "userId": "16665723407518839496"
     },
     "user_tz": -120
    },
    "id": "lEx9M-zH3Lce"
   },
   "outputs": [],
   "source": [
    "%load_ext autoreload\n",
    "%autoreload 2"
   ]
  },
  {
   "cell_type": "code",
   "execution_count": null,
   "metadata": {
    "executionInfo": {
     "elapsed": 1875,
     "status": "ok",
     "timestamp": 1625835797579,
     "user": {
      "displayName": "Alessandro Sebastianelli",
      "photoUrl": "https://lh3.googleusercontent.com/a-/AOh14GgVWBLvEG9yF5gq_rkIyj5MCLQv1OzgwlLWxu7e=s64",
      "userId": "16665723407518839496"
     },
     "user_tz": -120
    },
    "id": "wProGlM3eSSL"
   },
   "outputs": [],
   "source": [
    "from DatasetHandler import DatasetHandler\n",
    "from Model import CNNSpeckleFilter\n",
    "from utils import *"
   ]
  },
  {
   "cell_type": "markdown",
   "metadata": {
    "id": "hFRImz8Fe0Wf"
   },
   "source": [
    "# Load the dataset"
   ]
  },
  {
   "cell_type": "code",
   "execution_count": null,
   "metadata": {
    "colab": {
     "base_uri": "https://localhost:8080/"
    },
    "executionInfo": {
     "elapsed": 9,
     "status": "ok",
     "timestamp": 1625835797579,
     "user": {
      "displayName": "Alessandro Sebastianelli",
      "photoUrl": "https://lh3.googleusercontent.com/a-/AOh14GgVWBLvEG9yF5gq_rkIyj5MCLQv1OzgwlLWxu7e=s64",
      "userId": "16665723407518839496"
     },
     "user_tz": -120
    },
    "id": "rA8SJCJ9etBq",
    "outputId": "6277b133-421a-46f8-84dd-46f22d0f2296"
   },
   "outputs": [],
   "source": [
    "handler = DatasetHandler('dataset_v2')\n",
    "print(\"Training dataset size: \", len(handler.train_paths))\n",
    "print(\"Validation dataset size: \", len(handler.val_paths))\n",
    "print(\"Testing dataset size: \", len(handler.test_paths))"
   ]
  },
  {
   "cell_type": "code",
   "execution_count": null,
   "metadata": {
    "colab": {
     "base_uri": "https://localhost:8080/"
    },
    "executionInfo": {
     "elapsed": 7,
     "status": "ok",
     "timestamp": 1625835797581,
     "user": {
      "displayName": "Alessandro Sebastianelli",
      "photoUrl": "https://lh3.googleusercontent.com/a-/AOh14GgVWBLvEG9yF5gq_rkIyj5MCLQv1OzgwlLWxu7e=s64",
      "userId": "16665723407518839496"
     },
     "user_tz": -120
    },
    "id": "uXlE49d-LQYm",
    "outputId": "bf09f6f9-bbd6-4383-a29b-5d0ab1e6705b"
   },
   "outputs": [],
   "source": [
    "compute_max_min = False\n",
    "\n",
    "if compute_max_min:\n",
    "    MAX, MIN = handler.getstats(handler.train_paths)\n",
    "else:\n",
    "    MAX = 29968.252\n",
    "    MIN = 0\n",
    "\n",
    "print('Dataset max: ', MAX, 'Dataset min: ', MIN)"
   ]
  },
  {
   "cell_type": "code",
   "execution_count": null,
   "metadata": {
    "executionInfo": {
     "elapsed": 7,
     "status": "ok",
     "timestamp": 1625835797582,
     "user": {
      "displayName": "Alessandro Sebastianelli",
      "photoUrl": "https://lh3.googleusercontent.com/a-/AOh14GgVWBLvEG9yF5gq_rkIyj5MCLQv1OzgwlLWxu7e=s64",
      "userId": "16665723407518839496"
     },
     "user_tz": -120
    },
    "id": "OFBuX5At4PBe"
   },
   "outputs": [],
   "source": [
    "IMG_SHAPE = (96,96,1)"
   ]
  },
  {
   "cell_type": "code",
   "execution_count": null,
   "metadata": {
    "executionInfo": {
     "elapsed": 377,
     "status": "ok",
     "timestamp": 1625835798338,
     "user": {
      "displayName": "Alessandro Sebastianelli",
      "photoUrl": "https://lh3.googleusercontent.com/a-/AOh14GgVWBLvEG9yF5gq_rkIyj5MCLQv1OzgwlLWxu7e=s64",
      "userId": "16665723407518839496"
     },
     "user_tz": -120
    },
    "id": "txIc8weNe-Lc"
   },
   "outputs": [],
   "source": [
    "batch_speckle, batch_clean, batch_noise = next(iter(handler.data_loader(\n",
    "    paths      = handler.train_paths, \n",
    "    batch_size = 1, \n",
    "    img_shape  = IMG_SHAPE,\n",
    "    MAX = MAX,\n",
    "    MIN = MIN,\n",
    "    out_noise = True)\n",
    "))"
   ]
  },
  {
   "cell_type": "code",
   "execution_count": null,
   "metadata": {
    "colab": {
     "base_uri": "https://localhost:8080/",
     "height": 981
    },
    "executionInfo": {
     "elapsed": 5362,
     "status": "ok",
     "timestamp": 1625835804873,
     "user": {
      "displayName": "Alessandro Sebastianelli",
      "photoUrl": "https://lh3.googleusercontent.com/a-/AOh14GgVWBLvEG9yF5gq_rkIyj5MCLQv1OzgwlLWxu7e=s64",
      "userId": "16665723407518839496"
     },
     "user_tz": -120
    },
    "id": "soeF-9lye-n_",
    "outputId": "d8899229-695f-497d-9061-4d721fbb8588"
   },
   "outputs": [],
   "source": [
    "plot_dataset(batch_speckle, batch_clean)\n",
    "plot_dataset(batch_noise, batch_clean)"
   ]
  },
  {
   "cell_type": "markdown",
   "metadata": {
    "id": "826RIwIQfRAS"
   },
   "source": [
    "# CNN speckle filter training\n",
    "\n",
    "## Intialize the model\n"
   ]
  },
  {
   "cell_type": "code",
   "execution_count": null,
   "metadata": {
    "colab": {
     "base_uri": "https://localhost:8080/",
     "height": 1000
    },
    "executionInfo": {
     "elapsed": 3400294,
     "status": "ok",
     "timestamp": 1625839212274,
     "user": {
      "displayName": "Alessandro Sebastianelli",
      "photoUrl": "https://lh3.googleusercontent.com/a-/AOh14GgVWBLvEG9yF5gq_rkIyj5MCLQv1OzgwlLWxu7e=s64",
      "userId": "16665723407518839496"
     },
     "user_tz": -120
    },
    "id": "nnhFzKXPfP75",
    "outputId": "9b9c2030-584f-4984-ade6-4e59af9af00a"
   },
   "outputs": [],
   "source": [
    "TRAIN = False\n",
    "\n",
    "N_LAYER = 12\n",
    "speckle_filter = CNNSpeckleFilter(input_shape=IMG_SHAPE, n_layers=N_LAYER)\n",
    "#speckle_filter.model.summary()\n",
    "\n",
    "if TRAIN:\n",
    "    epochs = 60\n",
    "    batch_size = 16\n",
    "\n",
    "    train_gen = handler.data_loader(\n",
    "        paths      = handler.train_paths, \n",
    "        batch_size = batch_size, \n",
    "        img_shape  = IMG_SHAPE,\n",
    "        MAX = MAX,\n",
    "        MIN = MIN,\n",
    "        out_noise = False)\n",
    "\n",
    "    val_gen = handler.data_loader(\n",
    "        paths      = handler.val_paths, \n",
    "        batch_size = batch_size, \n",
    "        img_shape  = IMG_SHAPE,\n",
    "        MAX = MAX,\n",
    "        MIN = MIN,\n",
    "        out_noise = False)\n",
    "\n",
    "    train_step = len(handler.train_paths)//batch_size\n",
    "    val_step = len(handler.val_paths)//batch_size\n",
    "\n",
    "    history = speckle_filter.train_model(epochs, train_gen, val_gen, train_step, val_step)\n",
    "    speckle_filter.model.save('weights/new_model_'+str(N_LAYER)+'layers_relu.h5')\n",
    "\n",
    "    fig, axes = plt.subplots(nrows = 1, ncols = 2, figsize = (15,5))\n",
    "    axes[0].plot(history.history['loss'], label = 'Training')\n",
    "    axes[0].plot(history.history['val_loss'], label = 'Validation')\n",
    "    axes[0].legend()\n",
    "\n",
    "    axes[1].plot(history.history['mae'], label = 'Training')\n",
    "    axes[1].plot(history.history['val_mae'], label = 'Validation')\n",
    "    axes[1].legend()\n",
    "else:\n",
    "    from tensorflow.keras.models import load_model\n",
    "    speckle_filter.model = load_model('weights/new_model_'+str(N_LAYER)+'layers.h5')"
   ]
  },
  {
   "cell_type": "code",
   "execution_count": null,
   "metadata": {},
   "outputs": [],
   "source": [
    "IMG_SHAPE = (256,256,1)"
   ]
  },
  {
   "cell_type": "code",
   "execution_count": null,
   "metadata": {
    "executionInfo": {
     "elapsed": 2214,
     "status": "ok",
     "timestamp": 1625840445352,
     "user": {
      "displayName": "Alessandro Sebastianelli",
      "photoUrl": "https://lh3.googleusercontent.com/a-/AOh14GgVWBLvEG9yF5gq_rkIyj5MCLQv1OzgwlLWxu7e=s64",
      "userId": "16665723407518839496"
     },
     "user_tz": -120
    },
    "id": "mi7Fei0WRN_C"
   },
   "outputs": [],
   "source": [
    "batch_speckle, batch_clean = handler.data_loader_v2(\n",
    "    paths      = handler.test_paths, \n",
    "    img_shape  = IMG_SHAPE,\n",
    "    MAX = MAX,\n",
    "    MIN = MIN)\n",
    "\n",
    "batch_pred = speckle_filter.model.predict(batch_speckle[:,:96,:96,:])"
   ]
  },
  {
   "cell_type": "code",
   "execution_count": null,
   "metadata": {
    "colab": {
     "base_uri": "https://localhost:8080/",
     "height": 1000,
     "output_embedded_package_id": "1xoMp8WdshxZPhHAmh-p-HysVVXXJ-9LG"
    },
    "id": "g-vFor5kpDOC",
    "outputId": "47ace9e7-97f9-42fd-a744-f64045c08f3b",
    "tags": []
   },
   "outputs": [],
   "source": [
    "#plot_model_results(batch_speckle, batch_clean, batch_pred, n=False)"
   ]
  },
  {
   "cell_type": "markdown",
   "metadata": {
    "id": "6plVYFSfCFon"
   },
   "source": [
    "# Compare results"
   ]
  },
  {
   "cell_type": "code",
   "execution_count": null,
   "metadata": {
    "id": "wbmqcTRVCFon"
   },
   "outputs": [],
   "source": [
    "#!git clone https://github.com/cszn/DPIR.git\n",
    "#!git clone https://github.com/k-radlak/IDCNN.git\n",
    "#!git clone https://github.com/grip-unina/SAR-CNN.git"
   ]
  },
  {
   "cell_type": "code",
   "execution_count": null,
   "metadata": {},
   "outputs": [],
   "source": [
    "from test_models import *"
   ]
  },
  {
   "cell_type": "code",
   "execution_count": null,
   "metadata": {
    "id": "B4BQWlsep_vw"
   },
   "outputs": [],
   "source": [
    "from findpeaks import findpeaks\n",
    "import findpeaks\n",
    "\n",
    "def apply_filters(clean, speckle, filter):\n",
    "    img = findpeaks.stats.scale(speckle[...,0])\n",
    "    # CLASSICAL\n",
    "    image_lee, image_lee_enhanced, image_kuan, image_frost, image_mean, image_median, img_fastnl, img_bilateral = test_classic(img)\n",
    "    # BM3D\n",
    "    img_bm3d = test_BM3D(img)#speckle[...,0])\n",
    "    # IDCNN    \n",
    "    IDCNN = test_IDCNN(img)\n",
    "    #DNCNN\n",
    "    res = test_DNCNN(speckle)\n",
    "    # SARCNN\n",
    "    pred_int = test_SARCNN(speckle)\n",
    "    # CNNNLM\n",
    "    pred_NLM = test_CNNNLM(speckle)\n",
    "    # Speckle2void\n",
    "    pred_s2void = test_speckle2void(speckle[np.newaxis,...])\n",
    "    # SAR2SAR\n",
    "    pred_sar2sar = test_SAR2SAR(speckle[np.newaxis,...])\n",
    "    \n",
    "    imgs = []\n",
    "    imgs.append(clean[0:64,0:64])\n",
    "    imgs.append(speckle[0:64,0:64,0])\n",
    "    imgs.append(filter[0:64,0:64])\n",
    "    imgs.append(image_lee[0:64,0:64])\n",
    "    imgs.append(image_lee_enhanced[0:64,0:64])\n",
    "    imgs.append(image_kuan[0:64,0:64])\n",
    "    imgs.append(image_frost[0:64,0:64])\n",
    "    imgs.append(image_mean[0:64,0:64])\n",
    "    imgs.append(image_median[0:64,0:64])\n",
    "    imgs.append(img_fastnl[0:64,0:64])\n",
    "    imgs.append(img_bilateral[0:64,0:64])\n",
    "    imgs.append(img_bm3d[0:64,0:64])\n",
    "    imgs.append(res[0,0,0:64,0:64])\n",
    "    imgs.append(IDCNN[0:64,0:64])\n",
    "    imgs.append(pred_int[0,0,0:64,0:64])\n",
    "    imgs.append(pred_NLM[0,0,0:64,0:64])\n",
    "    imgs.append(pred_s2void[0:64,0:64,0])\n",
    "    imgs.append(pred_sar2sar[0:64,0:64,0])\n",
    "\n",
    "    return imgs"
   ]
  },
  {
   "cell_type": "code",
   "execution_count": null,
   "metadata": {
    "id": "yk2GRkahlnt5"
   },
   "outputs": [],
   "source": [
    "from skimage.metrics import structural_similarity, peak_signal_noise_ratio\n",
    "\n",
    "def compute_metrics_2(speckle, clean, filter, name):\n",
    "\n",
    "    if filter.max()>30:\n",
    "        filter = filter/255.0\n",
    "\n",
    "    P_gt_vs_in  = peak_signal_noise_ratio(clean, speckle, data_range=1.0)\n",
    "    P_gt_vs_pred  = peak_signal_noise_ratio(clean, filter, data_range=1.0)\n",
    "\n",
    "    print('|PSRN(GT VS SPECKLE): %.2f\\tPSNR(GT VS FILTER): %.2f\\t |%s' % (P_gt_vs_in, P_gt_vs_pred, name))\n",
    "\n",
    "    S_gt_vs_in  = structural_similarity(clean, speckle, data_range=1.0)\n",
    "    S_gt_vs_pred  = structural_similarity(clean, filter, data_range=1.0)\n",
    "\n",
    "    print('|SSIM(GT VS SPECKLE): %.2f\\tSSIM(GT VS FILTER): %.2f\\t |%s' % (S_gt_vs_in, S_gt_vs_pred, name))\n",
    "    \n",
    "    enl_spe  = (np.mean(speckle)**2)/(np.std(speckle)**2)\n",
    "    enl_clean = (np.mean(clean)**2)/(np.std(clean)**2)\n",
    "    enl_filter = (np.mean(filter)**2)/(np.std(filter)**2)\n",
    "\n",
    "    print('|ENL (SPECKLE      ): %.2f\\tENL (CLEAN       ): %.2f\\t |%s' % (enl_spe, enl_clean, name))\n",
    "    print('|ENL (FITLER       ): %.2f\\tENL (CLEAN       ): %.2f\\t |%s' % (enl_filter, enl_clean, name))\n",
    "    print('|----------------------------------------------------------------|')\n",
    "    \n",
    "    return P_gt_vs_in, P_gt_vs_pred, S_gt_vs_in, S_gt_vs_pred, enl_spe, enl_clean, enl_filter"
   ]
  },
  {
   "cell_type": "code",
   "execution_count": null,
   "metadata": {
    "id": "z5LlBGJ-jJ52",
    "tags": []
   },
   "outputs": [],
   "source": [
    "P1, P2, S1, S2, E1, E2, E3 = [],[],[],[],[],[],[]\n",
    "\n",
    "for IMG_N in range(batch_speckle.shape[0]):\n",
    "\n",
    "  #batch_speckle, batch_clean, batch_pred\n",
    "  #IMG_N = 3\n",
    "    \n",
    "    imgs = apply_filters(batch_clean[IMG_N,...,0], batch_speckle[IMG_N,...], batch_pred[IMG_N,...,0])\n",
    "    labels = ['Ground Truth','Input With Speckle','Proposed', 'Lee', 'Lee Enhanced', 'Kuan', 'Frost', 'Mean', 'Median', 'Fastnl', 'Bilateral', 'BM3D', 'DnCNN', 'ID-CNN',\n",
    "              'SAR-CNN', 'CNN-NLM','Speckle2Void', 'SAR2SAR']\n",
    "    \n",
    "    print('================================================ TEST %d ================================================' % (IMG_N))\n",
    "    print('|----------------------------------------------------------------|')\n",
    "    fig, axes = plt.subplots(nrows = 5, ncols = 4, figsize = (24,18))\n",
    "\n",
    "    counter = 0\n",
    "    for i in range(5):\n",
    "        for j in range(4):\n",
    "            try:\n",
    "                axes[i,j].imshow(imgs[counter], cmap = 'gray')\n",
    "\n",
    "                axes[i,j].set_title(labels[counter], fontsize = 18)\n",
    "                P_gt_vs_in, P_gt_vs_pred, S_gt_vs_in, S_gt_vs_pred, enl_spe, enl_clean, enl_filter = compute_metrics_2(batch_speckle[IMG_N,:64,:64,0], batch_clean[IMG_N,:64,:64,0], imgs[counter], labels[counter])\n",
    "                axes[i,j].axis(False)\n",
    "            except:\n",
    "                axes[i,j].imshow(np.zeros((64,64)), cmap = 'gray')\n",
    "                axes[i,j].axis(False)\n",
    "            counter += 1\n",
    "            \n",
    "            P1.append(P_gt_vs_in)\n",
    "            P2.append(P_gt_vs_pred)\n",
    "            S1.append(S_gt_vs_in)\n",
    "            S2.append(S_gt_vs_pred)\n",
    "            E1.append(enl_spe)\n",
    "            E2.append(enl_clean)\n",
    "            E3.append(enl_filter)\n",
    "\n",
    "    plt.show()"
   ]
  },
  {
   "cell_type": "code",
   "execution_count": null,
   "metadata": {},
   "outputs": [],
   "source": [
    "P1a = np.array(P1)\n",
    "P2a = np.array(P2)\n",
    "S1a = np.array(S1)\n",
    "S2a = np.array(S2)\n",
    "E1a = np.array(E1)\n",
    "E2a = np.array(E2)\n",
    "E3a = np.array(E3)"
   ]
  },
  {
   "cell_type": "code",
   "execution_count": null,
   "metadata": {
    "tags": []
   },
   "outputs": [],
   "source": [
    "scores = np.zeros((P1a.shape[0]//20, 18, 7))\n",
    "counter = 0\n",
    "for i in range(P1a.shape[0]//20):\n",
    "    for j in range(18):\n",
    "        scores[i,j,0] = P1a[counter]\n",
    "        scores[i,j,1] = P2a[counter]\n",
    "        scores[i,j,2] = S1a[counter]\n",
    "        scores[i,j,3] = S2a[counter]\n",
    "        scores[i,j,4] = E1a[counter]\n",
    "        scores[i,j,5] = E2a[counter]\n",
    "        scores[i,j,6] = E3a[counter]\n",
    "        counter += 1\n",
    "    counter += 2"
   ]
  },
  {
   "cell_type": "markdown",
   "metadata": {},
   "source": [
    "### PSNR"
   ]
  },
  {
   "cell_type": "code",
   "execution_count": null,
   "metadata": {},
   "outputs": [],
   "source": [
    "for i in range(18):\n",
    "    print(scores[:,i,1].mean())"
   ]
  },
  {
   "cell_type": "markdown",
   "metadata": {},
   "source": [
    "### SSIM"
   ]
  },
  {
   "cell_type": "code",
   "execution_count": null,
   "metadata": {},
   "outputs": [],
   "source": [
    "for i in range(18):\n",
    "    print(scores[:,i,3].mean())"
   ]
  },
  {
   "cell_type": "code",
   "execution_count": null,
   "metadata": {},
   "outputs": [],
   "source": []
  },
  {
   "cell_type": "code",
   "execution_count": null,
   "metadata": {},
   "outputs": [],
   "source": []
  }
 ],
 "metadata": {
  "accelerator": "GPU",
  "colab": {
   "collapsed_sections": [],
   "name": "SpeckleFiltering.ipynb",
   "provenance": []
  },
  "kernelspec": {
   "display_name": "Python 3",
   "language": "python",
   "name": "python3"
  },
  "language_info": {
   "codemirror_mode": {
    "name": "ipython",
    "version": 3
   },
   "file_extension": ".py",
   "mimetype": "text/x-python",
   "name": "python",
   "nbconvert_exporter": "python",
   "pygments_lexer": "ipython3",
   "version": "3.6.8"
  }
 },
 "nbformat": 4,
 "nbformat_minor": 4
}
