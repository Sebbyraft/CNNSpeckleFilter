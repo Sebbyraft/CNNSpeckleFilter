{
 "cells": [
  {
   "cell_type": "code",
   "execution_count": null,
   "metadata": {
    "executionInfo": {
     "elapsed": 637,
     "status": "ok",
     "timestamp": 1625835793397,
     "user": {
      "displayName": "Alessandro Sebastianelli",
      "photoUrl": "https://lh3.googleusercontent.com/a-/AOh14GgVWBLvEG9yF5gq_rkIyj5MCLQv1OzgwlLWxu7e=s64",
      "userId": "16665723407518839496"
     },
     "user_tz": -120
    },
    "id": "lEx9M-zH3Lce"
   },
   "outputs": [],
   "source": [
    "%load_ext autoreload\n",
    "%autoreload 2"
   ]
  },
  {
   "cell_type": "code",
   "execution_count": null,
   "metadata": {
    "executionInfo": {
     "elapsed": 1875,
     "status": "ok",
     "timestamp": 1625835797579,
     "user": {
      "displayName": "Alessandro Sebastianelli",
      "photoUrl": "https://lh3.googleusercontent.com/a-/AOh14GgVWBLvEG9yF5gq_rkIyj5MCLQv1OzgwlLWxu7e=s64",
      "userId": "16665723407518839496"
     },
     "user_tz": -120
    },
    "id": "wProGlM3eSSL"
   },
   "outputs": [],
   "source": [
    "from DatasetHandler import DatasetHandler\n",
    "from Model import CNNSpeckleFilter\n",
    "from skimage.metrics import peak_signal_noise_ratio, structural_similarity\n",
    "from utils import *"
   ]
  },
  {
   "cell_type": "code",
   "execution_count": null,
   "metadata": {},
   "outputs": [],
   "source": [
    "def enl(img):\n",
    "    k=16\n",
    "    \n",
    "    enls = []\n",
    "    for i in range(0,img.shape[0], k):\n",
    "        for j in range(0, img.shape[1], k):\n",
    "            p = img[i:i+k, j:j+k,...]\n",
    "            enls.append((np.nanmean(p)**2)/(np.nanstd(p)**2))\n",
    "    return np.max(enls)"
   ]
  },
  {
   "cell_type": "markdown",
   "metadata": {
    "id": "hFRImz8Fe0Wf"
   },
   "source": [
    "# Load the dataset"
   ]
  },
  {
   "cell_type": "code",
   "execution_count": null,
   "metadata": {
    "colab": {
     "base_uri": "https://localhost:8080/"
    },
    "executionInfo": {
     "elapsed": 9,
     "status": "ok",
     "timestamp": 1625835797579,
     "user": {
      "displayName": "Alessandro Sebastianelli",
      "photoUrl": "https://lh3.googleusercontent.com/a-/AOh14GgVWBLvEG9yF5gq_rkIyj5MCLQv1OzgwlLWxu7e=s64",
      "userId": "16665723407518839496"
     },
     "user_tz": -120
    },
    "id": "rA8SJCJ9etBq",
    "outputId": "6277b133-421a-46f8-84dd-46f22d0f2296"
   },
   "outputs": [],
   "source": [
    "handler = DatasetHandler('dataset_v2')\n",
    "print(\"Training dataset size: \", len(handler.train_paths))\n",
    "print(\"Validation dataset size: \", len(handler.val_paths))\n",
    "print(\"Testing dataset size: \", len(handler.test_paths))"
   ]
  },
  {
   "cell_type": "code",
   "execution_count": null,
   "metadata": {
    "executionInfo": {
     "elapsed": 7,
     "status": "ok",
     "timestamp": 1625835797582,
     "user": {
      "displayName": "Alessandro Sebastianelli",
      "photoUrl": "https://lh3.googleusercontent.com/a-/AOh14GgVWBLvEG9yF5gq_rkIyj5MCLQv1OzgwlLWxu7e=s64",
      "userId": "16665723407518839496"
     },
     "user_tz": -120
    },
    "id": "OFBuX5At4PBe"
   },
   "outputs": [],
   "source": [
    "IMG_SHAPE = (256,256,1)"
   ]
  },
  {
   "cell_type": "code",
   "execution_count": null,
   "metadata": {
    "executionInfo": {
     "elapsed": 377,
     "status": "ok",
     "timestamp": 1625835798338,
     "user": {
      "displayName": "Alessandro Sebastianelli",
      "photoUrl": "https://lh3.googleusercontent.com/a-/AOh14GgVWBLvEG9yF5gq_rkIyj5MCLQv1OzgwlLWxu7e=s64",
      "userId": "16665723407518839496"
     },
     "user_tz": -120
    },
    "id": "txIc8weNe-Lc"
   },
   "outputs": [],
   "source": [
    "batch_speckle, batch_clean, batch_noise = next(iter(handler.data_loader(\n",
    "    paths      = handler.train_paths, \n",
    "    batch_size = 1, \n",
    "    img_shape  = IMG_SHAPE,\n",
    "    out_noise = True)\n",
    "))"
   ]
  },
  {
   "cell_type": "code",
   "execution_count": null,
   "metadata": {
    "colab": {
     "base_uri": "https://localhost:8080/",
     "height": 981
    },
    "executionInfo": {
     "elapsed": 5362,
     "status": "ok",
     "timestamp": 1625835804873,
     "user": {
      "displayName": "Alessandro Sebastianelli",
      "photoUrl": "https://lh3.googleusercontent.com/a-/AOh14GgVWBLvEG9yF5gq_rkIyj5MCLQv1OzgwlLWxu7e=s64",
      "userId": "16665723407518839496"
     },
     "user_tz": -120
    },
    "id": "soeF-9lye-n_",
    "outputId": "d8899229-695f-497d-9061-4d721fbb8588"
   },
   "outputs": [],
   "source": [
    "fig, axes = plt.subplots(nrows = 2, ncols = 3, figsize = (15,10))\n",
    "axes[0,0].imshow(batch_speckle[0,:,:,0])\n",
    "axes[0,0].axis(False)\n",
    "axes[0,0].set_title('Input with speckle')\n",
    "axes[1,0].hist(batch_speckle[0,:,:,0].flatten(), 100)\n",
    "\n",
    "axes[0,1].imshow(batch_clean[0,:,:,0])\n",
    "axes[0,1].axis(False)\n",
    "axes[0,1].set_title('Ground Truth')\n",
    "axes[0,0].set_title('Input with speckle')\n",
    "axes[1,1].hist(batch_clean[0,:,:,0].flatten(), 100)\n",
    "\n",
    "axes[0,2].imshow(batch_noise[0,:,:,0])\n",
    "axes[0,2].axis(False)\n",
    "axes[0,2].set_title('Speckle')\n",
    "axes[1,2].hist(batch_noise[0,:,:,0].flatten(), 100)\n",
    "\n",
    "plt.show()"
   ]
  },
  {
   "cell_type": "markdown",
   "metadata": {
    "id": "826RIwIQfRAS"
   },
   "source": [
    "# CNN speckle filter training\n",
    "\n",
    "## Intialize the model\n"
   ]
  },
  {
   "cell_type": "code",
   "execution_count": null,
   "metadata": {
    "colab": {
     "base_uri": "https://localhost:8080/",
     "height": 1000
    },
    "executionInfo": {
     "elapsed": 3400294,
     "status": "ok",
     "timestamp": 1625839212274,
     "user": {
      "displayName": "Alessandro Sebastianelli",
      "photoUrl": "https://lh3.googleusercontent.com/a-/AOh14GgVWBLvEG9yF5gq_rkIyj5MCLQv1OzgwlLWxu7e=s64",
      "userId": "16665723407518839496"
     },
     "user_tz": -120
    },
    "id": "nnhFzKXPfP75",
    "outputId": "9b9c2030-584f-4984-ade6-4e59af9af00a",
    "tags": []
   },
   "outputs": [],
   "source": [
    "TRAIN = False\n",
    "\n",
    "N_LAYER = 30\n",
    "speckle_filter = CNNSpeckleFilter(input_shape=IMG_SHAPE, n_layers=N_LAYER)\n",
    "\n",
    "\n",
    "if TRAIN:\n",
    "    epochs = 100\n",
    "    batch_size = 12\n",
    "\n",
    "    train_gen = handler.data_loader(\n",
    "        paths      = handler.train_paths, \n",
    "        batch_size = batch_size, \n",
    "        img_shape  = IMG_SHAPE,\n",
    "        out_noise = False)\n",
    "\n",
    "    val_gen = handler.data_loader(\n",
    "        paths      = handler.val_paths, \n",
    "        batch_size = batch_size, \n",
    "        img_shape  = IMG_SHAPE,\n",
    "        out_noise = False)\n",
    "\n",
    "    train_step = len(handler.train_paths)//batch_size\n",
    "    val_step = len(handler.val_paths)//batch_size\n",
    "\n",
    "    history = speckle_filter.train_model(epochs, train_gen, val_gen, train_step, val_step)\n",
    "    speckle_filter.model.save_weights('weights/new_model_'+str(N_LAYER)+'.h5')\n",
    "\n",
    "    fig, axes = plt.subplots(nrows = 1, ncols = 1, figsize = (15,5))\n",
    "    axes.plot(history.history['loss'], label = 'Training')\n",
    "    axes.plot(history.history['val_loss'], label = 'Validation')\n",
    "    axes.legend()\n",
    "\n",
    "else:\n",
    "    from tensorflow.keras.models import load_model\n",
    "    speckle_filter.model.load_weights('weights/new_model_30.h5')"
   ]
  },
  {
   "cell_type": "code",
   "execution_count": null,
   "metadata": {
    "executionInfo": {
     "elapsed": 2214,
     "status": "ok",
     "timestamp": 1625840445352,
     "user": {
      "displayName": "Alessandro Sebastianelli",
      "photoUrl": "https://lh3.googleusercontent.com/a-/AOh14GgVWBLvEG9yF5gq_rkIyj5MCLQv1OzgwlLWxu7e=s64",
      "userId": "16665723407518839496"
     },
     "user_tz": -120
    },
    "id": "mi7Fei0WRN_C"
   },
   "outputs": [],
   "source": [
    "batch_speckle, batch_clean = next(iter(handler.data_loader(\n",
    "    paths      = handler.test_paths, \n",
    "    batch_size = 16,\n",
    "    img_shape  = IMG_SHAPE,\n",
    "    out_noise  = False)))\n",
    "\n",
    "batch_pred = speckle_filter.model.predict(batch_speckle)"
   ]
  },
  {
   "cell_type": "code",
   "execution_count": null,
   "metadata": {
    "colab": {
     "base_uri": "https://localhost:8080/",
     "height": 1000,
     "output_embedded_package_id": "1xoMp8WdshxZPhHAmh-p-HysVVXXJ-9LG"
    },
    "id": "g-vFor5kpDOC",
    "outputId": "47ace9e7-97f9-42fd-a744-f64045c08f3b",
    "tags": []
   },
   "outputs": [],
   "source": [
    "plot_model_results(batch_speckle, batch_clean, batch_pred, n = True)"
   ]
  },
  {
   "cell_type": "markdown",
   "metadata": {
    "id": "6plVYFSfCFon"
   },
   "source": [
    "# Compare results"
   ]
  },
  {
   "cell_type": "code",
   "execution_count": null,
   "metadata": {},
   "outputs": [],
   "source": [
    "from test_models import *"
   ]
  },
  {
   "cell_type": "code",
   "execution_count": null,
   "metadata": {
    "id": "B4BQWlsep_vw"
   },
   "outputs": [],
   "source": [
    "from findpeaks import findpeaks\n",
    "import findpeaks\n",
    "\n",
    "def apply_filters(clean, speckle, proposed):\n",
    "    img = findpeaks.stats.scale(speckle[...,0])\n",
    "    # CLASSICAL\n",
    "    image_lee, image_lee_enhanced, image_kuan, image_frost, image_mean, image_median, img_fastnl, img_bilateral = test_classic(img)\n",
    "    # BM3D\n",
    "    img_bm3d = test_BM3D(img)\n",
    "    \n",
    "    size = 256\n",
    "    \n",
    "    imgs = []\n",
    "    imgs.append(clean[0:size,0:size])\n",
    "    imgs.append(speckle[0:size,0:size,0])\n",
    "    imgs.append(proposed[0:size,0:size])\n",
    "    imgs.append(image_lee[0:size,0:size]/255.0)\n",
    "    imgs.append(image_lee_enhanced[0:size,0:size]/255.0)\n",
    "    imgs.append(image_kuan[0:size,0:size]/255.0)\n",
    "    imgs.append(image_frost[0:size,0:size]/255.0)\n",
    "    imgs.append(image_mean[0:size,0:size]/255.0)\n",
    "    imgs.append(image_median[0:size,0:size]/255.0)\n",
    "    imgs.append(img_fastnl[0:size,0:size]/255.0)\n",
    "    imgs.append(img_bilateral[0:size,0:size]/255.0)\n",
    "    imgs.append(img_bm3d[0:size,0:size]/255.0)\n",
    "\n",
    "    return imgs"
   ]
  },
  {
   "cell_type": "code",
   "execution_count": null,
   "metadata": {
    "id": "z5LlBGJ-jJ52",
    "tags": []
   },
   "outputs": [],
   "source": [
    "P1, S1 = [],[]\n",
    "\n",
    "for IMG_N in range(batch_speckle.shape[0]):\n",
    "    imgs = apply_filters(batch_clean[IMG_N,...,0], batch_speckle[IMG_N,...], batch_pred[IMG_N,...,0])\n",
    "    labels = ['Ground Truth','Input With Speckle','Proposed', 'Lee', 'Lee Enhanced', 'Kuan', 'Frost', 'Mean', 'Median', 'Fastnl', 'Bilateral', 'BM3D']\n",
    "    \n",
    "    print('================================================ TEST %d ================================================' % (IMG_N))\n",
    "    print('|----------------------------------------------------------------|')\n",
    "    fig, axes = plt.subplots(nrows = 3, ncols = 4, figsize = (24,18))\n",
    "    \n",
    "    pp1, ss1, = [],[]\n",
    "\n",
    "    counter = 0\n",
    "    for i in range(3):\n",
    "        for j in range(4):\n",
    "            axes[i,j].imshow(imgs[counter], cmap = 'gray', vmin = 0, vmax = 1)\n",
    "            axes[i,j].set_title(labels[counter], fontsize = 18)\n",
    "            axes[i,j].axis(False)\n",
    "            \n",
    "            psnr = peak_signal_noise_ratio(batch_clean[IMG_N,...,0], imgs[counter])\n",
    "            ssim = structural_similarity(batch_clean[IMG_N,...,0], imgs[counter])\n",
    "            \n",
    "            print('{} --- PSNR  {} --- SSIM {}'.format(labels[counter], psnr, ssim))\n",
    "            print('{} --- ENL G {} --- ENL N {} --- ENL P {}'.format(labels[counter], enl(batch_clean[IMG_N,...,0]), enl(batch_speckle[IMG_N,...]), enl(imgs[counter])))\n",
    "            \n",
    "            counter += 1\n",
    "            \n",
    "            pp1.append(psnr)\n",
    "            ss1.append(ssim)\n",
    "            \n",
    "    \n",
    "    P1.append(pp1)\n",
    "    S1.append(ss1)\n",
    "\n",
    "    plt.show()"
   ]
  },
  {
   "cell_type": "code",
   "execution_count": null,
   "metadata": {},
   "outputs": [],
   "source": [
    "P1 = np.array(P1)\n",
    "S1 = np.array(S1)"
   ]
  },
  {
   "cell_type": "code",
   "execution_count": null,
   "metadata": {},
   "outputs": [],
   "source": [
    "print(np.nanmean(P1, axis = 0))\n",
    "print(np.nanmean(S1, axis = 0))"
   ]
  },
  {
   "cell_type": "code",
   "execution_count": null,
   "metadata": {},
   "outputs": [],
   "source": []
  }
 ],
 "metadata": {
  "accelerator": "GPU",
  "colab": {
   "collapsed_sections": [],
   "name": "SpeckleFiltering.ipynb",
   "provenance": []
  },
  "kernelspec": {
   "display_name": "tf",
   "language": "python",
   "name": "tf"
  },
  "language_info": {
   "codemirror_mode": {
    "name": "ipython",
    "version": 3
   },
   "file_extension": ".py",
   "mimetype": "text/x-python",
   "name": "python",
   "nbconvert_exporter": "python",
   "pygments_lexer": "ipython3",
   "version": "3.8.0"
  }
 },
 "nbformat": 4,
 "nbformat_minor": 4
}
