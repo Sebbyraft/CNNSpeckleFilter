{
 "cells": [
  {
   "cell_type": "code",
   "execution_count": null,
   "id": "f6fde48c-f61d-4b27-b5d4-3c205612b8c8",
   "metadata": {},
   "outputs": [],
   "source": [
    "%load_ext autoreload\n",
    "%autoreload 2"
   ]
  },
  {
   "cell_type": "code",
   "execution_count": null,
   "id": "02de0ffb-8c43-44bb-8d40-83300cc80e35",
   "metadata": {},
   "outputs": [],
   "source": [
    "import numpy as np\n",
    "import matplotlib.pyplot as plt\n",
    "from DatasetHandler import DatasetHandler\n",
    "from findpeaks import findpeaks\n",
    "import findpeaks\n",
    "from scipy import special\n",
    "from tqdm import tqdm"
   ]
  },
  {
   "cell_type": "code",
   "execution_count": null,
   "id": "76cefc02-ff7d-458c-8981-1a35eb5fe3c3",
   "metadata": {},
   "outputs": [],
   "source": [
    "def enl(img):\n",
    "    return (np.nanmean(img)**2)/(np.nanstd(img)**2)"
   ]
  },
  {
   "cell_type": "code",
   "execution_count": null,
   "id": "7d364a75-dcf5-435c-a8bc-c77e4c869030",
   "metadata": {},
   "outputs": [],
   "source": [
    "def reject_outliers(s1):\n",
    "    p = np.percentile(s1, 95)\n",
    "    s1 = np.clip(s1, 0.0, p)\n",
    "\n",
    "    return s1\n",
    "    \n",
    "def min_max(s1):\n",
    "    return (s1 - s1.min()) / (s1.max() - s1.min())"
   ]
  },
  {
   "cell_type": "markdown",
   "id": "97ec7aa4-5948-4479-a1a6-173e6cadbd86",
   "metadata": {},
   "source": [
    "## Load real data"
   ]
  },
  {
   "cell_type": "code",
   "execution_count": null,
   "id": "e37cc49a-620c-4af8-b05c-7d0f2b3eb5b9",
   "metadata": {},
   "outputs": [],
   "source": [
    "import rasterio\n",
    "#path = 'GRD_data/S1-lat_41_13694930422632_lon_14_755163002014147-2019-09-12.tif'\n",
    "path = 'GRD_data/subset_0_of_S1A_IW_GRDH_1SDV_20211020T174045_20211020T174110_040206_04C337_6D4A_Orb_Bdr_Thermal_Cal_TC.tif'\n",
    "\n",
    "with rasterio.open(path) as src:\n",
    "    vv = src.read(1)\n",
    "    vh = src.read(2)\n",
    "\n",
    "intensity = vh\n",
    "\n",
    "print(' Max', intensity.max(), '\\n Min', intensity.min(), '\\n Std', intensity.std(), '\\n Mean', intensity.mean())"
   ]
  },
  {
   "cell_type": "code",
   "execution_count": null,
   "id": "819eb45e-4ad5-47ee-b9cd-2ea9b0409157",
   "metadata": {},
   "outputs": [],
   "source": [
    "intensity = reject_outliers(intensity)\n",
    "print(' Max', intensity.max(), '\\n Min', intensity.min(), '\\n Std', intensity.std(), '\\n Mean', intensity.mean())"
   ]
  },
  {
   "cell_type": "code",
   "execution_count": null,
   "id": "2fac2ea9-9c84-4008-ad40-f712e5708749",
   "metadata": {},
   "outputs": [],
   "source": [
    "intensity = min_max(intensity)\n",
    "print(' Max', intensity.max(), '\\n Min', intensity.min(), '\\n Std', intensity.std(), '\\n Mean', intensity.mean())"
   ]
  },
  {
   "cell_type": "markdown",
   "id": "8141a780-8a91-449a-a830-a56a7c01026f",
   "metadata": {},
   "source": [
    "## Plot data"
   ]
  },
  {
   "cell_type": "code",
   "execution_count": null,
   "id": "06158e4c-4f5c-4f7c-ac89-1590cd4f9f8b",
   "metadata": {
    "tags": []
   },
   "outputs": [],
   "source": [
    "fig, ax = plt.subplots(nrows = 1, ncols = 2, figsize = (20,8))\n",
    "ax[0].imshow(intensity, cmap ='gray', vmin = 0, vmax = 1)\n",
    "\n",
    "ax[1].hist(intensity.flatten(), 100)\n",
    "\n",
    "plt.show()"
   ]
  },
  {
   "cell_type": "code",
   "execution_count": null,
   "id": "97cbba98-27aa-4b5c-963c-1308aca21f96",
   "metadata": {},
   "outputs": [],
   "source": [
    "fig, ax = plt.subplots(nrows = 1, ncols = 1, figsize = (20,8))\n",
    "#ax.imshow(intensity[2000:3500, 5000:6000], cmap ='gray', vmin = 0, vmax = 1)\n",
    "ax.imshow(intensity[1000:2500, 1000:2500], cmap ='gray', vmin = 0.0, vmax = 1)\n",
    "ax.axis(False)\n",
    "\n",
    "\n",
    "plt.show()"
   ]
  },
  {
   "cell_type": "code",
   "execution_count": null,
   "id": "aa689bf2-e3d6-4d9c-90e1-7729d5c10ebe",
   "metadata": {},
   "outputs": [],
   "source": [
    "plt.imsave('input.png', intensity[2000:3500, 5000:6000], cmap='gray')"
   ]
  },
  {
   "cell_type": "code",
   "execution_count": null,
   "id": "06bea0f6-2151-4b0f-8b17-fe8f1d41d09d",
   "metadata": {},
   "outputs": [],
   "source": [
    "fig, ax = plt.subplots(nrows = 1, ncols = 1, figsize = (20,8))\n",
    "ax.imshow(intensity[2000:2300, 5360:5770], cmap ='gray', vmin = 0, vmax = 1)\n",
    "ax.axis(False)\n",
    "plt.show()"
   ]
  },
  {
   "cell_type": "code",
   "execution_count": null,
   "id": "4b76e5b1-53f0-4f9a-9157-a2f643b6eb94",
   "metadata": {},
   "outputs": [],
   "source": [
    "plt.imsave('input2.png', intensity[2000:2300, 5360:5770], cmap='gray')"
   ]
  },
  {
   "cell_type": "markdown",
   "id": "9f4673ad-75d7-4911-9ffd-0606b4d33cbe",
   "metadata": {},
   "source": [
    "# Proposed filter"
   ]
  },
  {
   "cell_type": "code",
   "execution_count": null,
   "id": "a909aefd-4cd9-4cdf-9828-c247de40762f",
   "metadata": {},
   "outputs": [],
   "source": [
    "import time\n",
    "from Model import CNNSpeckleFilter\n",
    "from tensorflow.keras.models import load_model\n",
    "\n",
    "N_LAYER = 12\n",
    "IMG_SHAPE = (256,256,1)\n",
    "\n",
    "speckle_filter = CNNSpeckleFilter(input_shape=IMG_SHAPE, n_layers=N_LAYER)\n",
    "speckle_filter.model.load_weights('weights/new_model_12.h5')\n"
   ]
  },
  {
   "cell_type": "code",
   "execution_count": null,
   "id": "0be8e9db-df46-4adb-9df9-a20ad340a977",
   "metadata": {},
   "outputs": [],
   "source": [
    "start_time = time.time()\n",
    "\n",
    "a = speckle_filter.model.predict(intensity[np.newaxis, :IMG_SHAPE[0], :IMG_SHAPE[1], np.newaxis])\n",
    "\n",
    "print(\"--- %s seconds ---\" % (time.time() - start_time))"
   ]
  },
  {
   "cell_type": "code",
   "execution_count": null,
   "id": "b9e3f719-a3cd-4b5b-9370-d45acad8bc02",
   "metadata": {},
   "outputs": [],
   "source": [
    "prediction = np.zeros(intensity.shape)\n",
    "\n",
    "start_time = time.time()\n",
    "\n",
    "for i in tqdm(range(intensity.shape[0]//IMG_SHAPE[0])):\n",
    "    for j in range(intensity.shape[1]//IMG_SHAPE[1]):\n",
    "        prediction[i*IMG_SHAPE[0]:(i+1)*IMG_SHAPE[0],j*IMG_SHAPE[1]:(j+1)*IMG_SHAPE[1]] = speckle_filter.model.predict(intensity[np.newaxis, i*IMG_SHAPE[0]:(i+1)*IMG_SHAPE[0],j*IMG_SHAPE[1]:(j+1)*IMG_SHAPE[1],np.newaxis])[0,...,0]\n",
    " \n",
    "print(\"--- %s seconds ---\" % (time.time() - start_time))\n",
    "prediction = prediction[:(intensity.shape[0]//IMG_SHAPE[0])*IMG_SHAPE[0], :(intensity.shape[1]//IMG_SHAPE[1])*IMG_SHAPE[1]]"
   ]
  },
  {
   "cell_type": "code",
   "execution_count": null,
   "id": "772d8df9-00dc-457d-9984-a3f3e9485806",
   "metadata": {},
   "outputs": [],
   "source": [
    "prediction = min_max(prediction)"
   ]
  },
  {
   "cell_type": "code",
   "execution_count": null,
   "id": "ecd71a16-a294-4b57-a4bb-5a7b116e3846",
   "metadata": {},
   "outputs": [],
   "source": [
    "fig, ax = plt.subplots(nrows = 1, ncols = 2, figsize = (20,8))\n",
    "ax[0].imshow(prediction, cmap ='gray', vmin = 0, vmax = 1)\n",
    "ax[0].axis(False)\n",
    "\n",
    "ax[1].hist(prediction.flatten(), 100)\n",
    "\n",
    "plt.show()"
   ]
  },
  {
   "cell_type": "code",
   "execution_count": null,
   "id": "a333723a-d503-44d7-952f-6da1e1c0e3ba",
   "metadata": {},
   "outputs": [],
   "source": [
    "fig, ax = plt.subplots(nrows = 1, ncols = 1, figsize = (20,8))\n",
    "ax.imshow(prediction[2000:3500, 5000:6000], cmap ='gray', vmin = 0.0, vmax = 1.0)\n",
    "#ax.imshow(prediction[1000:2500, 1000:2500], cmap ='gray', vmin = 0.15, vmax = 0.75)\n",
    "\n",
    "ax.axis(False)\n",
    "\n",
    "\n",
    "plt.show()"
   ]
  },
  {
   "cell_type": "code",
   "execution_count": null,
   "id": "61d5e17f-a6e9-4126-bef0-1cf3f05f9057",
   "metadata": {},
   "outputs": [],
   "source": [
    "plt.imsave('proposed.png', prediction[2000:3500, 5000:6000], cmap='gray',  vmin = 0.0, vmax = 1.0)"
   ]
  },
  {
   "cell_type": "code",
   "execution_count": null,
   "id": "0409d77b-11d7-491c-9dcb-e8176745e0b5",
   "metadata": {},
   "outputs": [],
   "source": [
    "fig, ax = plt.subplots(nrows = 1, ncols = 1, figsize = (20,8))\n",
    "ax.imshow(prediction[2000:2300, 5360:5770], cmap ='gray', vmax = 1)\n",
    "ax.axis(False)\n",
    "plt.show()"
   ]
  },
  {
   "cell_type": "code",
   "execution_count": null,
   "id": "c717c0ec-6c68-4154-9b61-1240fc362888",
   "metadata": {},
   "outputs": [],
   "source": [
    "plt.imsave('proposed2.png', prediction[2000:2300, 5360:5770], cmap='gray',  vmax = 1.1)"
   ]
  },
  {
   "cell_type": "markdown",
   "id": "37032e59-e812-4b94-8ac7-b33533966f02",
   "metadata": {},
   "source": [
    "# SARBM3D"
   ]
  },
  {
   "cell_type": "code",
   "execution_count": null,
   "id": "b56d35d2-84fc-4ec6-b9a5-94876bec5884",
   "metadata": {},
   "outputs": [],
   "source": [
    "import rasterio\n",
    "# path = 'GRD_data/S1-lat_41_13694930422632_lon_14_755163002014147-2019-09-12.tif'\n",
    "path = 'GRD_data/SARBM3D.tif'\n",
    "\n",
    "with rasterio.open(path) as src:\n",
    "    sarbm3d = src.read(1).astype(np.float64)\n"
   ]
  },
  {
   "cell_type": "code",
   "execution_count": null,
   "id": "e3284eb2-cb9c-4a4a-acc2-d1e29ab4a4ed",
   "metadata": {},
   "outputs": [],
   "source": [
    "fig, ax = plt.subplots(nrows = 1, ncols = 2, figsize = (20,8))\n",
    "ax[0].imshow(sarbm3d, cmap ='gray', vmin = 0, vmax = 200)\n",
    "ax[0].axis(False)\n",
    "\n",
    "ax[1].hist(sarbm3d.flatten(), 100, [0,300])\n",
    "\n",
    "plt.show()"
   ]
  },
  {
   "cell_type": "code",
   "execution_count": null,
   "id": "555bb37c-4007-4e2d-a17d-9df7b614b6a0",
   "metadata": {},
   "outputs": [],
   "source": [
    "fig, ax = plt.subplots(nrows = 1, ncols = 1, figsize = (20,8))\n",
    "ax.imshow(sarbm3d[2000:3500, 5000:6000], cmap ='gray', vmin = 0, vmax = 200)\n",
    "ax.axis(False)\n",
    "\n",
    "\n",
    "plt.show()"
   ]
  },
  {
   "cell_type": "code",
   "execution_count": null,
   "id": "88b80c8c-a24a-4e7f-b0b5-ab245372bf38",
   "metadata": {},
   "outputs": [],
   "source": [
    "plt.imsave('SARBM3D.png', sarbm3d[2000:3500, 5000:6000], cmap='gray',  vmin = 0, vmax = 200)"
   ]
  },
  {
   "cell_type": "code",
   "execution_count": null,
   "id": "553e14a7-5eba-4985-8fd7-cee14e33931f",
   "metadata": {},
   "outputs": [],
   "source": [
    "fig, ax = plt.subplots(nrows = 1, ncols = 1, figsize = (20,8))\n",
    "ax.imshow(sarbm3d[2000:2300, 5360:5770], cmap ='gray', vmin = 0, vmax = 200)\n",
    "ax.axis(False)\n",
    "plt.show()"
   ]
  },
  {
   "cell_type": "code",
   "execution_count": null,
   "id": "1eb47a5e-3597-439c-b012-7c61ffdd1411",
   "metadata": {},
   "outputs": [],
   "source": [
    "plt.imsave('SARBM3D2.png', sarbm3d[2000:2300, 5360:5770], cmap='gray',  vmin = 0, vmax = 200)"
   ]
  },
  {
   "cell_type": "code",
   "execution_count": null,
   "id": "4672e2a5-1abb-4668-ab35-0fa48fe5073c",
   "metadata": {},
   "outputs": [],
   "source": []
  }
 ],
 "metadata": {
  "kernelspec": {
   "display_name": "Python 3 (ipykernel)",
   "language": "python",
   "name": "python3"
  },
  "language_info": {
   "codemirror_mode": {
    "name": "ipython",
    "version": 3
   },
   "file_extension": ".py",
   "mimetype": "text/x-python",
   "name": "python",
   "nbconvert_exporter": "python",
   "pygments_lexer": "ipython3",
   "version": "3.9.7"
  }
 },
 "nbformat": 4,
 "nbformat_minor": 5
}
