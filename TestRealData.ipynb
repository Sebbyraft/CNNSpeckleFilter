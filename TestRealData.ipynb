{
 "cells": [
  {
   "cell_type": "code",
   "execution_count": null,
   "id": "f6fde48c-f61d-4b27-b5d4-3c205612b8c8",
   "metadata": {},
   "outputs": [],
   "source": [
    "%load_ext autoreload\n",
    "%autoreload 2"
   ]
  },
  {
   "cell_type": "code",
   "execution_count": null,
   "id": "02de0ffb-8c43-44bb-8d40-83300cc80e35",
   "metadata": {},
   "outputs": [],
   "source": [
    "import numpy as np\n",
    "import matplotlib.pyplot as plt\n",
    "from DatasetHandler import DatasetHandler\n",
    "from findpeaks import findpeaks\n",
    "import findpeaks\n",
    "from scipy import special\n",
    "from tqdm import tqdm"
   ]
  },
  {
   "cell_type": "code",
   "execution_count": null,
   "id": "76cefc02-ff7d-458c-8981-1a35eb5fe3c3",
   "metadata": {},
   "outputs": [],
   "source": [
    "def enl(img):\n",
    "    return (np.nanmean(img)**2)/(np.nanstd(img)**2)"
   ]
  },
  {
   "cell_type": "code",
   "execution_count": null,
   "id": "0b2e7471-4dc3-45e1-bf7b-3da48de2e9ae",
   "metadata": {},
   "outputs": [],
   "source": [
    "def normalize(s1):\n",
    "    def reject_outliers_2(data, m=5):\n",
    "        d = np.abs(data - np.median(data))\n",
    "        mdev = np.median(d)\n",
    "        s = d / (mdev if mdev else 1.)\n",
    "        return data[s < m]  \n",
    "\n",
    "    d = reject_outliers_2(s1.flatten(), m=8.)\n",
    "    s1_n = (s1 -  np.min(d))/(np.max(d) -  np.min(d))\n",
    "    s1_n = np.clip(s1_n, 0.0, 1.0)\n",
    "\n",
    "    return s1_n.astype(np.float64)"
   ]
  },
  {
   "cell_type": "markdown",
   "id": "97ec7aa4-5948-4479-a1a6-173e6cadbd86",
   "metadata": {},
   "source": [
    "## Load amplitude data"
   ]
  },
  {
   "cell_type": "code",
   "execution_count": null,
   "id": "e37cc49a-620c-4af8-b05c-7d0f2b3eb5b9",
   "metadata": {},
   "outputs": [],
   "source": [
    "import rasterio\n",
    "# path = 'GRD_data/S1-lat_41_13694930422632_lon_14_755163002014147-2019-09-12.tif'\n",
    "path = 'GRD_data/subset_0_of_S1A_IW_GRDH_1SDV_20211020T174045_20211020T174110_040206_04C337_6D4A_Orb_Bdr_Thermal_Cal_TC.tif'\n",
    "\n",
    "with rasterio.open(path) as src:\n",
    "    vv = src.read(1).astype(np.float64)\n",
    "    vh = src.read(2).astype(np.float64)\n",
    "\n",
    "intensity = vh\n",
    "\n",
    "print(' Max', amplitude.max(), '\\n Min', amplitude.min(), '\\n Std', amplitude.std(), '\\n Mean', amplitude.mean())"
   ]
  },
  {
   "cell_type": "markdown",
   "id": "17b69529-3f5b-43fc-b6a0-069621c3b132",
   "metadata": {},
   "source": [
    "### Get Intensity"
   ]
  },
  {
   "cell_type": "code",
   "execution_count": null,
   "id": "d59cca0f-91f9-4525-8b36-a74524097965",
   "metadata": {},
   "outputs": [],
   "source": [
    "print(' Max', intensity.max(), '\\n Min', intensity.min(), '\\n Std', intensity.std(), '\\n Mean', intensity.mean())"
   ]
  },
  {
   "cell_type": "markdown",
   "id": "73c35c0b-f4a5-4bdd-a9ce-e48e6e363ad2",
   "metadata": {},
   "source": [
    "### Normalize intensity"
   ]
  },
  {
   "cell_type": "code",
   "execution_count": null,
   "id": "aefdc16c-fcfc-45ac-9ecf-01ea737ebde6",
   "metadata": {},
   "outputs": [],
   "source": [
    "norm_intensity = normalize(intensity)\n",
    "print(' Max', norm_intensity.max(), '\\n Min', norm_intensity.min(), '\\n Std', norm_intensity.std(), '\\n Mean', norm_intensity.mean())"
   ]
  },
  {
   "cell_type": "code",
   "execution_count": null,
   "id": "80a63e93-93da-41bd-8d9a-8a222c332158",
   "metadata": {},
   "outputs": [],
   "source": [
    "fig, ax = plt.subplots(nrows = 1, ncols = 1, figsize = (10,10))\n",
    "ax.hist(norm_intensity.flatten(), 300)\n",
    "ax.set_ylim([0,2e6])\n",
    "plt.show()"
   ]
  },
  {
   "cell_type": "markdown",
   "id": "8141a780-8a91-449a-a830-a56a7c01026f",
   "metadata": {},
   "source": [
    "## Plot data"
   ]
  },
  {
   "cell_type": "code",
   "execution_count": null,
   "id": "06158e4c-4f5c-4f7c-ac89-1590cd4f9f8b",
   "metadata": {
    "tags": []
   },
   "outputs": [],
   "source": [
    "fig, ax = plt.subplots(nrows = 1, ncols = 1, figsize = (20,20))\n",
    "ax.imshow(norm_intensity, cmap ='gray', vmin = 0.1, vmax = 0.8)\n",
    "\n",
    "#major_x_ticks = np.arange(0, norm_intensity.shape[1], 256)\n",
    "#major_y_ticks = np.arange(0, norm_intensity.shape[0], 256)\n",
    "#ax.set_xticks(major_x_ticks)\n",
    "#ax.set_yticks(major_y_ticks)\n",
    "#ax.grid(which='both',color='r', linestyle='-', linewidth=2)\n",
    "\n",
    "ax.axis(False)\n",
    "plt.show()"
   ]
  },
  {
   "cell_type": "markdown",
   "id": "9f4673ad-75d7-4911-9ffd-0606b4d33cbe",
   "metadata": {},
   "source": [
    "# Proposed filter"
   ]
  },
  {
   "cell_type": "code",
   "execution_count": null,
   "id": "a909aefd-4cd9-4cdf-9828-c247de40762f",
   "metadata": {},
   "outputs": [],
   "source": [
    "import time\n",
    "from Model import CNNSpeckleFilter\n",
    "from tensorflow.keras.models import load_model\n",
    "\n",
    "N_LAYER = 12\n",
    "IMG_SHAPE = (96,96,1)\n",
    "\n",
    "speckle_filter = CNNSpeckleFilter(input_shape=IMG_SHAPE, n_layers=N_LAYER)\n",
    "speckle_filter.model = load_model('weights/new_model_'+str(N_LAYER)+'layers.h5')\n"
   ]
  },
  {
   "cell_type": "code",
   "execution_count": null,
   "id": "0be8e9db-df46-4adb-9df9-a20ad340a977",
   "metadata": {},
   "outputs": [],
   "source": [
    "start_time = time.time()\n",
    "\n",
    "a = speckle_filter.model.predict(norm_intensity[np.newaxis, 0:96, 0:96, np.newaxis])\n",
    "\n",
    "print(\"--- %s seconds ---\" % (time.time() - start_time))"
   ]
  },
  {
   "cell_type": "code",
   "execution_count": null,
   "id": "b9e3f719-a3cd-4b5b-9370-d45acad8bc02",
   "metadata": {},
   "outputs": [],
   "source": [
    "prediction = np.zeros(norm_intensity.shape)\n",
    "\n",
    "start_time = time.time()\n",
    "\n",
    "for i in range(norm_intensity.shape[0]//IMG_SHAPE[0]):\n",
    "    for j in range(norm_intensity.shape[1]//IMG_SHAPE[1]):\n",
    "        prediction[i*IMG_SHAPE[0]:(i+1)*IMG_SHAPE[0],j*IMG_SHAPE[1]:(j+1)*IMG_SHAPE[1]] = speckle_filter.model.predict(norm_intensity[np.newaxis, i*IMG_SHAPE[0]:(i+1)*IMG_SHAPE[0],j*IMG_SHAPE[1]:(j+1)*IMG_SHAPE[1],np.newaxis])[0,...,0]\n",
    "        \n",
    "print(\"--- %s seconds ---\" % (time.time() - start_time))"
   ]
  },
  {
   "cell_type": "code",
   "execution_count": null,
   "id": "ecd71a16-a294-4b57-a4bb-5a7b116e3846",
   "metadata": {},
   "outputs": [],
   "source": [
    "fig, ax = plt.subplots(nrows = 1, ncols = 1, figsize = (20,20))\n",
    "ax.imshow(prediction, cmap ='gray', vmin = 0.1, vmax=0.8)\n",
    "\n",
    "#major_x_ticks = np.arange(0, norm_intensity.shape[1], 256)\n",
    "#major_y_ticks = np.arange(0, norm_intensity.shape[0], 256)\n",
    "#ax.set_xticks(major_x_ticks)\n",
    "#ax.set_yticks(major_y_ticks)\n",
    "#ax.grid(which='both',color='r', linestyle='-', linewidth=2)\n",
    "\n",
    "ax.axis(False)\n",
    "plt.show()"
   ]
  },
  {
   "cell_type": "markdown",
   "id": "21d58e58-267d-490d-b973-ba88b944e417",
   "metadata": {},
   "source": [
    "# Lee filter"
   ]
  },
  {
   "cell_type": "code",
   "execution_count": null,
   "id": "476f6b80-83bf-4529-87e4-b90669ec482b",
   "metadata": {
    "tags": []
   },
   "outputs": [],
   "source": [
    "import findpeaks\n",
    "scaled_intensity = findpeaks.stats.scale(norm_intensity)\n",
    "# window size\n",
    "winsize = 3\n",
    "# damping factor for frost\n",
    "k_value1 = 2.0\n",
    "# damping factor for lee enhanced\n",
    "k_value2 = 1.0\n",
    "# coefficient of variation of noise\n",
    "cu_value = 0.25\n",
    "# coefficient of variation for lee enhanced of noise\n",
    "cu_lee_enhanced = 0.523\n",
    "# max coefficient of variation for lee enhancedW\n",
    "cmax_value = 1.73"
   ]
  },
  {
   "cell_type": "code",
   "execution_count": null,
   "id": "056d1610-882c-4be5-b890-90a1c64d29e6",
   "metadata": {},
   "outputs": [],
   "source": [
    "start_time = time.time()\n",
    "_ = findpeaks.lee_enhanced_filter(scaled_intensity[:96,:96,...], win_size=winsize, k=k_value2, cu=cu_lee_enhanced, cmax=cmax_value)\n",
    "print(\"--- %s seconds ---\" % (time.time() - start_time))"
   ]
  },
  {
   "cell_type": "code",
   "execution_count": null,
   "id": "e1a44639-4272-4d78-be5d-6d5d16296ab6",
   "metadata": {},
   "outputs": [],
   "source": [
    "start_time = time.time()\n",
    "image_lee_enhanced = findpeaks.lee_enhanced_filter(scaled_intensity, win_size=winsize, k=k_value2, cu=cu_lee_enhanced, cmax=cmax_value)\n",
    "print(\"--- %s seconds ---\" % (time.time() - start_time))"
   ]
  },
  {
   "cell_type": "code",
   "execution_count": null,
   "id": "73307694-6b31-41c8-af93-dec6e5e3543d",
   "metadata": {},
   "outputs": [],
   "source": [
    "fig, ax = plt.subplots(nrows = 1, ncols = 1, figsize = (20,20))\n",
    "ax.imshow(image_lee_enhanced, cmap ='gray', vmin=20, vmax=220)\n",
    "ax.axis(False)\n",
    "plt.show()"
   ]
  },
  {
   "cell_type": "markdown",
   "id": "37032e59-e812-4b94-8ac7-b33533966f02",
   "metadata": {},
   "source": [
    "# SARBM3D"
   ]
  },
  {
   "cell_type": "code",
   "execution_count": null,
   "id": "b56d35d2-84fc-4ec6-b9a5-94876bec5884",
   "metadata": {},
   "outputs": [],
   "source": [
    "import rasterio\n",
    "# path = 'GRD_data/S1-lat_41_13694930422632_lon_14_755163002014147-2019-09-12.tif'\n",
    "path = 'SARBM3D.tif'\n",
    "\n",
    "with rasterio.open(path) as src:\n",
    "    sarbm3d = src.read(1).astype(np.float64)\n"
   ]
  },
  {
   "cell_type": "code",
   "execution_count": null,
   "id": "e3284eb2-cb9c-4a4a-acc2-d1e29ab4a4ed",
   "metadata": {},
   "outputs": [],
   "source": [
    "fig, ax = plt.subplots(nrows = 1, ncols = 1, figsize = (20,20))\n",
    "ax.imshow(sarbm3d, cmap ='gray', vmin=0, vmax=200)\n",
    "ax.axis(False)\n",
    "plt.show()\n",
    "\n",
    "#print('ENL IDCNN', enl(BM3D[100:150, 0:50]))"
   ]
  },
  {
   "cell_type": "code",
   "execution_count": null,
   "id": "555bb37c-4007-4e2d-a17d-9df7b614b6a0",
   "metadata": {},
   "outputs": [],
   "source": []
  }
 ],
 "metadata": {
  "kernelspec": {
   "display_name": "Python 3 (ipykernel)",
   "language": "python",
   "name": "python3"
  },
  "language_info": {
   "codemirror_mode": {
    "name": "ipython",
    "version": 3
   },
   "file_extension": ".py",
   "mimetype": "text/x-python",
   "name": "python",
   "nbconvert_exporter": "python",
   "pygments_lexer": "ipython3",
   "version": "3.8.10"
  }
 },
 "nbformat": 4,
 "nbformat_minor": 5
}
