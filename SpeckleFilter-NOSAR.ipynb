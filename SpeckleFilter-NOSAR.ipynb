{
 "cells": [
  {
   "cell_type": "code",
   "execution_count": null,
   "id": "1b49e040-9dfc-4d49-bdc2-e5d8cef89f4d",
   "metadata": {},
   "outputs": [],
   "source": [
    "%load_ext autoreload\n",
    "%autoreload 2"
   ]
  },
  {
   "cell_type": "code",
   "execution_count": null,
   "id": "e26b1b1a-59b5-467b-b753-0a3fcfd33be2",
   "metadata": {},
   "outputs": [],
   "source": [
    "import matplotlib.pyplot as plt\n",
    "from skimage.metrics import peak_signal_noise_ratio, structural_similarity\n",
    "import numpy as np\n",
    "import random\n",
    "import glob\n",
    "import os"
   ]
  },
  {
   "cell_type": "code",
   "execution_count": null,
   "id": "85fe9200-5f27-4ea6-8172-122b2ed8ce3e",
   "metadata": {},
   "outputs": [],
   "source": [
    "paths = glob.glob(os.path.join('val2017','*'))\n",
    "print(len(paths))"
   ]
  },
  {
   "cell_type": "code",
   "execution_count": null,
   "id": "c4661ec4-d118-46f8-8f4c-1d2eb3fe5a74",
   "metadata": {},
   "outputs": [],
   "source": [
    "train_paths = paths[:4500]\n",
    "val_paths = paths[4500:]"
   ]
  },
  {
   "cell_type": "code",
   "execution_count": null,
   "id": "b5c63378-ccaf-4e49-85df-39d2cd9b28fa",
   "metadata": {},
   "outputs": [],
   "source": [
    "def rgb2gray(rgb):\n",
    "    r, g, b = rgb[:,:,0], rgb[:,:,1], rgb[:,:,2]\n",
    "    gray = 0.2989 * r + 0.5870 * g + 0.1140 * b\n",
    "    return gray"
   ]
  },
  {
   "cell_type": "code",
   "execution_count": null,
   "id": "cc22e9c8-ce62-4cb8-8946-75208859f471",
   "metadata": {},
   "outputs": [],
   "source": [
    "def add_speckle(s1, looks = 4):\n",
    "    # Numpy Gamma Distribution is defined in the shape-scale form\n",
    "    # Mean 1 Var 1/looks\n",
    "    gamma_shape = looks\n",
    "    gamma_scale = 1/looks\n",
    "\n",
    "    noise = np.random.gamma(gamma_shape, \n",
    "                            gamma_scale, \n",
    "                            s1.shape[0]*s1.shape[1]).reshape(s1.shape)\n",
    "    s1 = s1*noise\n",
    "\n",
    "    return s1, noise\n",
    "\n",
    "def add_noise(s1, var = 0.2):\n",
    "    row,col = s1.shape\n",
    "    mean = 0\n",
    "    sigma = var**0.5\n",
    "    gauss = np.random.normal(mean,sigma,(row,col))\n",
    "    gauss = gauss.reshape(row,col)\n",
    "    noisy = s1 + gauss\n",
    "    noisy = np.clip(noisy, 0.0, 1.0)\n",
    "    \n",
    "    return noisy, gauss\n"
   ]
  },
  {
   "cell_type": "code",
   "execution_count": null,
   "id": "53cf0a59-918a-4a21-a18d-54a03947c40a",
   "metadata": {},
   "outputs": [],
   "source": [
    "def norm(img):\n",
    "    return (img - img.min())/(img.max() - img.min())"
   ]
  },
  {
   "cell_type": "code",
   "execution_count": null,
   "id": "54a3eaa7-3e33-481f-b3cb-cfdc602f455d",
   "metadata": {},
   "outputs": [],
   "source": [
    "def dataL(paths, batch_size, shape, var = 1):\n",
    "    \n",
    "    batch_in  = np.zeros((batch_size, shape, shape, 1))\n",
    "    batch_out = np.zeros((batch_size, shape, shape, 1))\n",
    "    random.shuffle(paths)\n",
    "    counter = 0\n",
    "    \n",
    "    while True:\n",
    "        \n",
    "        if counter>= len(paths) - batch_size:\n",
    "            counter = 0\n",
    "            random.shuffle(paths)\n",
    "            \n",
    "        for i in range(batch_size):\n",
    "            img = plt.imread(paths[counter])[:shape, :shape, :]\n",
    "            img = img/img.max()\n",
    "            \n",
    "            batch_out[i,:,:,0] = rgb2gray(img)\n",
    "            batch_in[i,:,:,0], _  = add_noise(batch_out[i, :,:,0], var = var)#add_speckle(batch_out[i, :,:,0], looks = 4)\n",
    "            #batch_in[i,:,:,0], _  = add_speckle(batch_out[i, :,:,0], looks = 4)\n",
    "            \n",
    "            #batch_in[i,:,:,0] = (batch_in[i,:,:,0] - batch_in[i,:,:,0].min()) / (batch_in[i,:,:,0].max() - batch_in[i,:,:,0].min())\n",
    "            \n",
    "            counter += 1\n",
    "            \n",
    "        yield  np.clip(batch_in, 0.0, 1.0), np.clip(batch_out, 0.0, 1.0)"
   ]
  },
  {
   "cell_type": "markdown",
   "id": "7d615768-efc2-4401-8006-cfcf4af8aa04",
   "metadata": {},
   "source": [
    "# Train-Test model"
   ]
  },
  {
   "cell_type": "code",
   "execution_count": null,
   "id": "00d6e443-ee27-4078-a6d2-e3fa1c07903d",
   "metadata": {},
   "outputs": [],
   "source": [
    "from Model import CNNSpeckleFilter\n",
    "N_LAYER = 12\n",
    "shape = 256\n",
    "epochs = 60\n",
    "batch_size = 12\n",
    "varias = [0.01, 0.02, 0.05, 0.08, 0.1]#[1, 2, 4]\n",
    "\n",
    "for var in varias:\n",
    "    \n",
    "    # Train\n",
    "    speckle_filter = CNNSpeckleFilter(input_shape=(shape,shape,1), n_layers=N_LAYER)\n",
    "    train_gen = dataL(train_paths, batch_size, shape, var=var)\n",
    "    val_gen = dataL(val_paths, batch_size, shape, var=var)\n",
    "    train_step = len(train_paths)//batch_size\n",
    "    val_step = len(val_paths)//batch_size\n",
    "    #history = speckle_filter.train_model(epochs, train_gen, val_gen, train_step, val_step)\n",
    "    #speckle_filter.model.save_weights('weights/noSAR_model_'+str(N_LAYER)+'layers_ssim_mse_clipin_tanh_v3_speckle-var_'+str(var)+'.h5')\n",
    "    #speckle_filter.model.load_weights('weights/noSAR_model_'+str(N_LAYER)+'layers_ssim_mse_clipin_tanh_v3_speckle-var_'+str(var)+'.h5')\n",
    "    speckle_filter.model.load_weights('weights/noSAR_model_'+str(N_LAYER)+'layers_ssim_mse_clipin_tanh_v3_gauss-var_'+str(var)+'.h5')\n",
    "    \n",
    "    ## Test\n",
    "\n",
    "    test_paths = glob.glob(os.path.join('coco_test_dataset','*'))\n",
    "    batch_size = len(test_paths)\n",
    "\n",
    "    val_gen = dataL(test_paths, batch_size, shape, var = var)\n",
    "    x,y = next(iter(val_gen))\n",
    "    yp = speckle_filter.model.predict(x)\n",
    "\n",
    "    for i in range(batch_size):\n",
    "\n",
    "        fig, axes = plt.subplots(nrows=1,ncols=5, figsize = (30,10))\n",
    "        axes[0].imshow(x[i,:,:,0], cmap = 'gray')\n",
    "        axes[0].axis(False)\n",
    "\n",
    "        axes[1].imshow(y[i,:,:,0], vmax = 1, cmap = 'gray')\n",
    "        axes[1].axis(False)\n",
    "\n",
    "        n = (yp[i,:,:,0] - yp[i,:,:,0].min()) / (yp[i,:,:,0].max() - yp[i,:,:,0].min())\n",
    "        axes[2].imshow(n, vmax = 1, cmap = 'gray')\n",
    "        axes[2].axis(False)\n",
    "\n",
    "        axes[3].imshow(yp[i,:,:,0], vmax = 1, cmap = 'gray')\n",
    "        axes[3].axis(False)\n",
    "\n",
    "        axes[4].imshow(np.abs(x[i,:,:,0] - yp[i,:,:,0]), vmax = 1, cmap = 'gray')\n",
    "        axes[4].axis(False)\n",
    "        plt.show()\n",
    "        plt.close()\n",
    "\n",
    "        plt.imsave('results_speckle\\\\b_{}_noise-l_{}.png'.format(i,var), x[i,:,:,0], cmap = 'gray')\n",
    "        plt.imsave('results_speckle\\\\b_{}_gt-l_{}.png'.format(i,var), y[i,:,:,0], cmap = 'gray')\n",
    "        plt.imsave('results_speckle\\\\b_{}_pred-l_{}.png'.format(i,var), n, cmap = 'gray')\n",
    "        print('Looks {}'.format(var))\n",
    "        print('PSNR(GT,N): ', peak_signal_noise_ratio(y[i,:,:,0], x[i,:,:,0]))\n",
    "        print('PSNR(GT,P): ', peak_signal_noise_ratio(y[i,:,:,0], n))\n",
    "              \n",
    "        print('SSIM(GT,N): ', structural_similarity(y[i,:,:,0], x[i,:,:,0]))\n",
    "        print('SSIM(GT,P): ', structural_similarity(y[i,:,:,0], n))"
   ]
  },
  {
   "cell_type": "code",
   "execution_count": null,
   "id": "0bcb5302-aa0a-4f00-88a3-b0a1acb6a781",
   "metadata": {},
   "outputs": [],
   "source": [
    "import matplotlib.pyplot as plt"
   ]
  },
  {
   "cell_type": "code",
   "execution_count": null,
   "id": "a2441213-be63-4d64-85f3-cd39f05f9bf3",
   "metadata": {},
   "outputs": [],
   "source": [
    "tests = ['0','1','2','3','4','5','6']\n",
    "powers = ['0.01', '0.02', '0.05', '0.08', '0.1'] \n",
    "\n",
    "for test in tests:\n",
    "    for power in powers:\n",
    "        gt    = plt.imread('results_gaussian\\\\b_{}_gt-p_{}.png'.format(test, power))[:,:,0]\n",
    "        noisy = plt.imread('results_gaussian\\\\b_{}_noise-p_{}.png'.format(test, power))[:,:,0]\n",
    "        pred  = plt.imread('results_gaussian\\\\b_{}_pred-p_{}.png'.format(test, power))[:,:,0]\n",
    "        \n",
    "        print(' --------------------- TEST {} --------------------'.format(test))\n",
    "        print(' ========== Power {}'.format(power))\n",
    "              \n",
    "        print('PSNR(GT,N): ', peak_signal_noise_ratio(gt, noisy))\n",
    "        print('PSNR(GT,P): ', peak_signal_noise_ratio(gt, pred))\n",
    "              \n",
    "        print('SSIM(GT,N): ', structural_similarity(gt, noisy))\n",
    "        print('SSIM(GT,P): ', structural_similarity(gt, pred))\n",
    "        \n",
    "        fig, axes = plt.subplots(nrows = 1, ncols = 3, figsize = (10,5))\n",
    "        axes[0].imshow(gt)\n",
    "        axes[1].imshow(noisy)\n",
    "        axes[2].imshow(pred)\n",
    "        plt.show()\n",
    "        plt.close()"
   ]
  },
  {
   "cell_type": "code",
   "execution_count": null,
   "id": "c5358bac-68f6-450e-b148-908b468d547a",
   "metadata": {},
   "outputs": [],
   "source": [
    "tests = ['0','1','2','3','4','5','6']\n",
    "powers = ['1', '2', '4'] \n",
    "\n",
    "for test in tests:\n",
    "    for power in powers:\n",
    "        gt    = plt.imread('results_speckle\\\\b_{}_gt-l_{}.png'.format(test, power))[:,:,0]\n",
    "        noisy = plt.imread('results_speckle\\\\b_{}_noise-l_{}.png'.format(test, power))[:,:,0]\n",
    "        pred  = plt.imread('results_speckle\\\\b_{}_pred-l_{}.png'.format(test, power))[:,:,0]\n",
    "        \n",
    "        print(' --------------------- TEST {} --------------------'.format(test))\n",
    "        print(' ========== L {}'.format(power))\n",
    "              \n",
    "        print('PSNR(GT,N): ', peak_signal_noise_ratio(gt, noisy))\n",
    "        print('PSNR(GT,P): ', peak_signal_noise_ratio(gt, pred))\n",
    "        print('SSIM(GT,N): ', structural_similarity(gt, noisy))   \n",
    "        print('SSIM(GT,P): ', structural_similarity(gt, pred))\n",
    "        \n",
    "        fig, axes = plt.subplots(nrows = 1, ncols = 3, figsize = (10,5))\n",
    "        axes[0].imshow(gt)\n",
    "        axes[1].imshow(noisy)\n",
    "        axes[2].imshow(pred)\n",
    "        plt.show()\n",
    "        plt.close()\n",
    "        "
   ]
  },
  {
   "cell_type": "code",
   "execution_count": null,
   "id": "ce2e3b9b-aa58-45a1-b9f4-63382df1bd0e",
   "metadata": {},
   "outputs": [],
   "source": []
  }
 ],
 "metadata": {
  "kernelspec": {
   "display_name": "tf",
   "language": "python",
   "name": "tf"
  },
  "language_info": {
   "codemirror_mode": {
    "name": "ipython",
    "version": 3
   },
   "file_extension": ".py",
   "mimetype": "text/x-python",
   "name": "python",
   "nbconvert_exporter": "python",
   "pygments_lexer": "ipython3",
   "version": "3.8.0"
  }
 },
 "nbformat": 4,
 "nbformat_minor": 5
}
