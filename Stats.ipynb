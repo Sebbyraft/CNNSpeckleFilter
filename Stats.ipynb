{
 "cells": [
  {
   "cell_type": "code",
   "execution_count": null,
   "id": "45b9f1d6-bb96-410a-b34f-def474eb0fc2",
   "metadata": {},
   "outputs": [],
   "source": [
    "%load_ext autoreload\n",
    "%autoreload 2"
   ]
  },
  {
   "cell_type": "code",
   "execution_count": null,
   "id": "bfa3d27e-cd51-4ff5-ae8c-bd7edcabf2b4",
   "metadata": {},
   "outputs": [],
   "source": [
    "from DatasetHandler import DatasetHandler\n",
    "from Model import CNNSpeckleFilter\n",
    "from utils import *\n",
    "import matplotlib.pyplot as plt\n",
    "import numpy as np\n",
    "import scipy.stats as stats \n",
    "import matplotlib.pyplot as plt"
   ]
  },
  {
   "cell_type": "code",
   "execution_count": null,
   "id": "b3477d26-edab-422e-a138-aa8b236b5ac3",
   "metadata": {},
   "outputs": [],
   "source": [
    "handler = DatasetHandler('dataset_v2')\n",
    "print(\"Training dataset size: \", len(handler.train_paths))\n",
    "print(\"Validation dataset size: \", len(handler.val_paths))\n",
    "print(\"Testing dataset size: \", len(handler.test_paths))"
   ]
  },
  {
   "cell_type": "code",
   "execution_count": null,
   "id": "307dba7a-c84c-4464-915e-a1b57978a548",
   "metadata": {},
   "outputs": [],
   "source": [
    "speckle_filter = CNNSpeckleFilter(input_shape=(256,256,1), n_layers=30)\n",
    "speckle_filter.model.load_weights('weights/new_model_30.h5')"
   ]
  },
  {
   "cell_type": "code",
   "execution_count": null,
   "id": "420b0613-b59a-402d-9f25-dcb6c16293c4",
   "metadata": {},
   "outputs": [],
   "source": [
    "import matplotlib.pyplot as mpl\n",
    "mpl.rcParams['font.size'] = 16"
   ]
  },
  {
   "cell_type": "markdown",
   "id": "11f63b18-440b-471f-bccf-7c8c92203ad3",
   "metadata": {},
   "source": [
    "## Test 1"
   ]
  },
  {
   "cell_type": "code",
   "execution_count": null,
   "id": "a9368a34-ec9e-4d83-959d-a0376769202b",
   "metadata": {},
   "outputs": [],
   "source": [
    "img_raw = handler.load(handler.train_paths[17])\n",
    "img = handler.reject_outliers(img_raw, 99.99)\n",
    "img = handler.min_max(img)\n",
    "\n",
    "s, n = handler.add_speckle(img_raw, looks = 4)\n",
    "s = handler.reject_outliers(s, 99.7)\n",
    "s = handler.min_max(s)\n",
    "\n",
    "p = speckle_filter.model.predict(s[np.newaxis, ...])[0,...]\n",
    "p = handler.min_max(p)\n",
    "\n",
    "#-------------------------------------------------------------\n",
    "looks = 4\n",
    "gamma_shape = looks\n",
    "gamma_scale = 1/looks\n",
    "#define three Gamma distributions\n",
    "t = np.linspace(0, 4, num = 100)\n",
    "n = stats.gamma.pdf(t, a=gamma_shape, scale=gamma_scale)"
   ]
  },
  {
   "cell_type": "code",
   "execution_count": null,
   "id": "a074fbd8-6c20-4445-b312-58b5042fee58",
   "metadata": {},
   "outputs": [],
   "source": [
    "fig, axes = plt.subplots(nrows = 2, ncols = 2, figsize = (10,8))\n",
    "\n",
    "axes[0,0].imshow(img, cmap = 'gray')\n",
    "axes[0,0].set_title('Ground Truth Image')\n",
    "axes[0,0].axis(False)\n",
    "\n",
    "axes[0,1].hist(img.flatten(), 200, [0.01,0.99], label = 'Histogram', color='gray')\n",
    "axes[0,1].set_xlabel('Normalized Gray Level')\n",
    "axes[0,1].set_ylabel('Histogram')\n",
    "axes[0,1].legend(loc=0)\n",
    "axes[0,1].set_title('Ground Truth Histrogram')\n",
    "ax2 = axes[0,1].twinx()\n",
    "ax2.plot(t/4, n, '-.', color = 'black',label = 'Gamma')\n",
    "ax2.set_ylim([0,1])\n",
    "ax2.set_ylabel('PDF')\n",
    "ax2.legend(loc=5)\n",
    "\n",
    "axes[1,0].imshow(np.ones((256,256,3)))\n",
    "axes[1,0].axis(False)\n",
    "\n",
    "\n",
    "axes[1,1].hist(p.flatten(), 200, [0.01,0.99], label = 'Histogram', color='gray')\n",
    "axes[1,1].set_xlabel('Normalized Gray Level')\n",
    "axes[1,1].set_ylabel('Histogram')\n",
    "axes[1,1].set_title('Filtered Image Histrogram')\n",
    "axes[1,1].legend(loc=0)\n",
    "ax3 = axes[1,1].twinx()\n",
    "ax3.plot(t/4, n, '-.', color = 'black', label = 'Gamma')\n",
    "ax3.set_ylim([0,1])\n",
    "ax3.set_ylabel('PDF')\n",
    "ax3.legend(loc=5)\n",
    "\n",
    "fig.tight_layout()\n",
    "plt.show()"
   ]
  },
  {
   "cell_type": "code",
   "execution_count": null,
   "id": "68236e38-2c83-46a3-87bf-ce9c0b03b035",
   "metadata": {},
   "outputs": [],
   "source": [
    "fig, ax = plt.subplots(nrows = 1, ncols = 1, figsize = (9,5))\n",
    "\n",
    "\n",
    "ax.hist(img.flatten(), 300, [0.01,0.99], label = 'Input', histtype ='step')\n",
    "ax.set_xlabel('Normalized Gray Level')\n",
    "ax.set_ylabel('Histogram')\n",
    "\n",
    "ax.hist(p.flatten(), 300, [0.01,0.99], label = 'Filtered', histtype ='step')\n",
    "ax.set_xlabel('Normalized Gray Level')\n",
    "\n",
    "ax3 = ax.twinx()\n",
    "ax3.plot(bins, best_fit_line, '-.', color = 'black', label = 'Gamma')\n",
    "ax3.set_ylim([0,None])\n",
    "ax3.set_ylabel('Estimated PDF')\n",
    "\n",
    "\n",
    "ax.legend(loc=0)\n",
    "\n",
    "fig.tight_layout()\n",
    "plt.show()"
   ]
  },
  {
   "cell_type": "code",
   "execution_count": null,
   "id": "5639a8af-5f79-4361-9f4f-529f1ab21bdd",
   "metadata": {},
   "outputs": [],
   "source": [
    "fig, axes = plt.subplots(nrows = 2, ncols = 1, figsize = (8,10))\n",
    "\n",
    "_, bins, _ = axes[0].hist(img.flatten(), 200, [0.01,0.99], label = 'Histogram', color='gray', density = False)\n",
    "axes[0].set_xlabel('Normalized Gray Level')\n",
    "axes[0].set_ylabel('Histogram')\n",
    "axes[0].set_title('Ground Truth Histrogram')\n",
    "\n",
    "params = scipy.stats.gamma.fit(img.flatten())\n",
    "best_fit_line = scipy.stats.gamma.pdf(bins, params[0], params[1], params[2])\n",
    "ax3 = axes[0].twinx()\n",
    "ax3.plot(bins, best_fit_line, '-.', color = 'black', label = 'Gamma')\n",
    "ax3.set_ylim([0,None])\n",
    "ax3.set_ylabel('Estimated PDF')\n",
    "\n",
    "\n",
    "axes[1].hist(p.flatten(), 200, [0.01,0.99], label = 'Histogram', color='gray', density = False)\n",
    "axes[1].set_xlabel('Normalized Gray Level')\n",
    "axes[1].set_ylabel('Histogram')\n",
    "axes[1].set_title('Filtered Image Histrogram')\n",
    "ax3 = axes[1].twinx()\n",
    "params = scipy.stats.gamma.fit(img.flatten())\n",
    "best_fit_line = scipy.stats.gamma.pdf(bins, params[0], params[1], params[2])\n",
    "ax3.plot(bins, best_fit_line, '-.', color = 'black', label = 'Gamma')\n",
    "ax3.set_ylim([0,None])\n",
    "ax3.set_ylabel('Estimated PDF')\n",
    "\n",
    "\n",
    "fig.tight_layout()\n",
    "plt.show()"
   ]
  },
  {
   "cell_type": "markdown",
   "id": "90b23934-7489-4332-8df5-14acb11aa57e",
   "metadata": {},
   "source": [
    "## Test 2"
   ]
  },
  {
   "cell_type": "code",
   "execution_count": null,
   "id": "f8567d98-8e36-4559-935d-7fc20a5feccd",
   "metadata": {},
   "outputs": [],
   "source": [
    "img_raw = handler.load(handler.train_paths[39])\n",
    "img = handler.reject_outliers(img_raw, 99.3)\n",
    "img = handler.min_max(img)\n",
    "\n",
    "s, n = handler.add_speckle(img_raw, looks = 4)\n",
    "s = handler.reject_outliers(s, 99)\n",
    "s = handler.min_max(s)\n",
    "\n",
    "p = speckle_filter.model.predict(s[np.newaxis, ...])[0,...]\n",
    "p = handler.min_max(p)\n",
    "\n",
    "#-------------------------------------------------------------\n",
    "looks = 4\n",
    "gamma_shape = looks\n",
    "gamma_scale = 1/looks\n",
    "#define three Gamma distributions\n",
    "t = np.linspace(0, 4, num = 100)\n",
    "n = stats.gamma.pdf(t, a=gamma_shape, scale=gamma_scale)"
   ]
  },
  {
   "cell_type": "code",
   "execution_count": null,
   "id": "ef2eb24b-580d-4c82-8c8a-6567df5125bb",
   "metadata": {},
   "outputs": [],
   "source": [
    "fig, axes = plt.subplots(nrows = 2, ncols = 2, figsize = (10,8))\n",
    "\n",
    "axes[0,0].imshow(img, cmap = 'gray')\n",
    "axes[0,0].set_title('Ground Truth Image')\n",
    "axes[0,0].axis(False)\n",
    "\n",
    "axes[0,1].hist(img.flatten(), 200, [0.01,0.99], label = 'Histogram', color='gray')\n",
    "axes[0,1].set_xlabel('Normalized Gray Level')\n",
    "axes[0,1].set_ylabel('Histogram')\n",
    "axes[0,1].legend(loc=0)\n",
    "axes[0,1].set_title('Ground Truth Histrogram')\n",
    "ax2 = axes[0,1].twinx()\n",
    "ax2.plot(t/4, n, '-.', color = 'black',label = 'Gamma')\n",
    "ax2.set_ylim([0,1])\n",
    "ax2.set_ylabel('PDF')\n",
    "ax2.legend(loc=5)\n",
    "\n",
    "axes[1,0].imshow(np.ones((256,256,3)))\n",
    "axes[1,0].axis(False)\n",
    "\n",
    "\n",
    "axes[1,1].hist(p.flatten(), 200, [0.01,0.99], label = 'Histogram', color='gray')\n",
    "axes[1,1].set_xlabel('Normalized Gray Level')\n",
    "axes[1,1].set_ylabel('Histogram')\n",
    "axes[1,1].set_title('Filtered Image Histrogram')\n",
    "axes[1,1].legend(loc=0)\n",
    "ax3 = axes[1,1].twinx()\n",
    "ax3.plot(t/4, n, '-.', color = 'black', label = 'Gamma')\n",
    "ax3.set_ylim([0,1])\n",
    "ax3.set_ylabel('PDF')\n",
    "ax3.legend(loc=5)\n",
    "\n",
    "fig.tight_layout()\n",
    "plt.show()"
   ]
  },
  {
   "cell_type": "code",
   "execution_count": null,
   "id": "0dbd99ad-a36e-4291-a214-2819eca68e8d",
   "metadata": {},
   "outputs": [],
   "source": [
    "fig, ax = plt.subplots(nrows = 1, ncols = 1, figsize = (9,5))\n",
    "\n",
    "\n",
    "ax.hist(img.flatten(), 300, [0.01,0.99], label = 'Input', histtype ='step')\n",
    "ax.set_xlabel('Normalized Gray Level')\n",
    "ax.set_ylabel('Histogram')\n",
    "\n",
    "ax.hist(p.flatten(), 300, [0.01,0.99], label = 'Filtered', histtype ='step')\n",
    "ax.set_xlabel('Normalized Gray Level')\n",
    "\n",
    "ax.legend(loc=0)\n",
    "\n",
    "fig.tight_layout()\n",
    "plt.show()"
   ]
  },
  {
   "cell_type": "code",
   "execution_count": null,
   "id": "6f7e5058-6763-4aeb-be53-61760a76c5dd",
   "metadata": {},
   "outputs": [],
   "source": [
    "import scipy\n"
   ]
  },
  {
   "cell_type": "code",
   "execution_count": null,
   "id": "a4c70df6-d65f-49d7-9920-440ca60aa1d2",
   "metadata": {},
   "outputs": [],
   "source": [
    "fig, axes = plt.subplots(nrows = 2, ncols = 1, figsize = (9,10))\n",
    "\n",
    "_, bins, _ = axes[0].hist(img.flatten(), 200, [0.01,0.99], label = 'Histogram', color='gray', density = False)\n",
    "axes[0].set_xlabel('Normalized Gray Level')\n",
    "axes[0].set_ylabel('Histogram')\n",
    "axes[0].set_title('Ground Truth Histrogram')\n",
    "\n",
    "params = scipy.stats.gamma.fit(img.flatten())\n",
    "best_fit_line = scipy.stats.gamma.pdf(bins, params[0], params[1], params[2])\n",
    "ax3 = axes[0].twinx()\n",
    "ax3.plot(bins, best_fit_line, '-.', color = 'black', label = 'Gamma')\n",
    "ax3.set_ylim([0,None])\n",
    "ax3.set_ylabel('Estimated PDF')\n",
    "\n",
    "\n",
    "\n",
    "\n",
    "axes[1].hist(p.flatten(), 200, [0.01,0.99], label = 'Histogram', color='gray', density = False)\n",
    "axes[1].set_xlabel('Normalized Gray Level')\n",
    "axes[1].set_ylabel('Histogram')\n",
    "axes[1].set_title('Filtered Image Histrogram')\n",
    "ax3 = axes[1].twinx()\n",
    "ax3.plot(bins, best_fit_line, '-.', color = 'black', label = 'Gamma')\n",
    "ax3.set_ylim([0,None])\n",
    "ax3.set_ylabel('Estimated PDF')\n",
    "\n",
    "\n",
    "fig.tight_layout()\n",
    "plt.show()"
   ]
  },
  {
   "cell_type": "markdown",
   "id": "d6acdff1-3b5c-4573-9d5e-fb35a2564a18",
   "metadata": {},
   "source": [
    "# Edges Preservation Evaluation"
   ]
  },
  {
   "cell_type": "code",
   "execution_count": null,
   "id": "3d5655c0-19a2-476e-b77b-c992fb7439de",
   "metadata": {},
   "outputs": [],
   "source": [
    "from scipy import ndimage\n",
    "import cv2\n",
    "\n",
    "def get_edges(img):\n",
    "    # Get x-gradient in \"sx\"\n",
    "    sx = ndimage.sobel(img,axis=0,mode='constant')\n",
    "    # Get y-gradient in \"sy\"\n",
    "    sy = ndimage.sobel(img,axis=1,mode='constant')\n",
    "    # Get square root of sum of squares\n",
    "    sobel=np.hypot(sx,sy)\n",
    "    \n",
    "    return sobel"
   ]
  },
  {
   "cell_type": "code",
   "execution_count": null,
   "id": "98ad86f1-bfd2-4226-a5fd-fdee563c061f",
   "metadata": {
    "tags": []
   },
   "outputs": [],
   "source": [
    "gt = get_edges(img)\n",
    "gt = cv2.normalize(gt, None, alpha=0, beta=1, norm_type=cv2.NORM_MINMAX)\n",
    "pre = get_edges(p)\n",
    "pre = cv2.normalize(pre, None, alpha=0, beta=1, norm_type=cv2.NORM_MINMAX)\n",
    "diff = gt-pre\n",
    "fig, axes = plt.subplots(nrows = 2, ncols = 2, figsize = (10,10))\n",
    "\n",
    "axes[0,0].imshow(img,cmap=plt.cm.gray)\n",
    "axes[0,0].axis(False)\n",
    "axes[0,0].set_title('Ground Truth Image')\n",
    "\n",
    "axes[0,1].imshow(gt,cmap=plt.cm.gray)\n",
    "axes[0,1].axis(False)\n",
    "axes[0,1].set_title('Edges of Ground Truth Image')\n",
    "\n",
    "axes[1,0].imshow(pre,cmap=plt.cm.gray)\n",
    "axes[1,0].axis(False)\n",
    "axes[1,0].set_title('Edges of Filtered Image')\n",
    "\n",
    "axes[1,1].hist(diff.flatten(),  200, label = 'Histogram', color='gray')\n",
    "axes[1,1].set_title('Histogram of edges difference')\n",
    "axes[1,1].set_xlabel('Normalized Edge Difference')\n",
    "axes[1,1].set_ylabel('Histogram')\n",
    "\n",
    "fig.tight_layout()\n",
    "plt.show()\n",
    "    \n",
    "    "
   ]
  },
  {
   "cell_type": "code",
   "execution_count": null,
   "id": "60eab867-a07c-40e8-90ff-ddde5eece33d",
   "metadata": {},
   "outputs": [],
   "source": []
  },
  {
   "cell_type": "code",
   "execution_count": null,
   "id": "1f5301be-1005-4655-aba1-266e4706d82e",
   "metadata": {},
   "outputs": [],
   "source": []
  }
 ],
 "metadata": {
  "kernelspec": {
   "display_name": "tf",
   "language": "python",
   "name": "tf"
  },
  "language_info": {
   "codemirror_mode": {
    "name": "ipython",
    "version": 3
   },
   "file_extension": ".py",
   "mimetype": "text/x-python",
   "name": "python",
   "nbconvert_exporter": "python",
   "pygments_lexer": "ipython3",
   "version": "3.8.0"
  }
 },
 "nbformat": 4,
 "nbformat_minor": 5
}
