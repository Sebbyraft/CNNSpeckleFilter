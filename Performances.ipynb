{
 "cells": [
  {
   "cell_type": "markdown",
   "id": "d5a097d0-7067-4f54-ad67-02cb46c9f57f",
   "metadata": {},
   "source": [
    "# Proposed Model VS Speckle2Void, SAR2SAR and CNN-NLM"
   ]
  },
  {
   "cell_type": "code",
   "execution_count": 1,
   "id": "e0849919-4792-481b-8f32-ad9bd2e02977",
   "metadata": {},
   "outputs": [],
   "source": [
    "# %load_ext autoreload\n",
    "# %autoreload 2"
   ]
  },
  {
   "cell_type": "code",
   "execution_count": null,
   "id": "eb128d82-a9ff-458a-9a90-05790cebf923",
   "metadata": {},
   "outputs": [],
   "source": [
    "from DatasetHandler import DatasetHandler\n",
    "import matplotlib.pyplot as plt\n",
    "from skimage.metrics import structural_similarity, peak_signal_noise_ratio\n",
    "import numpy as np"
   ]
  },
  {
   "cell_type": "code",
   "execution_count": null,
   "id": "7bb04d41-aac3-4ba9-ad3d-d680d62d5ea7",
   "metadata": {},
   "outputs": [],
   "source": [
    "def plot_model_results(batch_speckle, batch_clean, batch_pred):\n",
    "    n = batch_speckle.shape[0]\n",
    "\n",
    "    for i in range(n):\n",
    "        fig, axes = plt.subplots(\n",
    "        nrows = 2,\n",
    "        ncols = 4, \n",
    "        figsize = (16, 8))\n",
    "\n",
    "        print('-------------------------------------------------------------------------------------------')\n",
    "        print('Test', i)\n",
    "\n",
    "        axes[0,0].imshow(batch_speckle[i,...,0], cmap='gray')\n",
    "        axes[0,0].set_title('Input with speckle')\n",
    "        axes[0,1].imshow(batch_clean[i,...,0], cmap='gray')\n",
    "        axes[0,1].set_title('Ground truth')\n",
    "        axes[0,2].imshow(batch_pred[i,...,0], cmap='gray')\n",
    "        axes[0,2].set_title('Model Prediction')\n",
    "        diff = np.abs(batch_pred[i,...,0] - batch_clean[i,...,0])\n",
    "        axes[0,3].imshow(diff, vmin=np.min(diff), vmax=np.max(diff), cmap='gray')\n",
    "        axes[0,3].set_title('|Model Prediction - Ground Truth|')\n",
    "        \n",
    "        try:\n",
    "            axes[1,0].hist(batch_speckle[i,...,0].flatten(), bins=20, histtype='step')\n",
    "            axes[1,0].set_title('Input with speckle')\n",
    "            axes[1,1].hist(batch_clean[i,...,0].flatten(), bins=20, histtype='step')\n",
    "            axes[1,1].set_title('Ground truth')\n",
    "            axes[1,2].hist(batch_pred[i,...,0].flatten(), bins=20, histtype='step')\n",
    "            axes[1,2].set_title('Model Prediction')\n",
    "            axes[1,3].hist(diff.flatten(), bins=20, histtype='step')\n",
    "            axes[1,3].set_title('|Model Prediction - Ground Truth|')\n",
    "        except:\n",
    "            pass\n",
    "    \n",
    "        plt.show()\n",
    "        plt.close()\n",
    "\n",
    "def compute_metrics(batch_speckle, batch_clean, batch_pred):\n",
    "    n = batch_speckle.shape[0]\n",
    "    \n",
    "    print('===========================================================================================================================================')\n",
    "    print('  Test \\t\\t Metric\\t\\tGrount Truth VS Grount Truth \\t\\t Grount Truth VS Input \\t\\t Grount Truth VS Model Prediction')\n",
    "    print('-------------------------------------------------------------------------------------------------------------------------------------------')\n",
    "    for i in range(n):\n",
    "        gt_vs_gt = peak_signal_noise_ratio(batch_clean[i, ...,0], batch_clean[i, ...,0], data_range=1.0)\n",
    "        gt_vs_in  = peak_signal_noise_ratio(batch_clean[i, ...,0], batch_speckle[i,...,0], data_range=1.0)\n",
    "        gt_vs_pred  = peak_signal_noise_ratio(batch_clean[i, ...,0], batch_pred[i,...,0], data_range=1.0)\n",
    "\n",
    "        print('   %i  \\t\\t  PSNR \\t\\t             %.2f             \\t\\t             %.2f      \\t\\t             %.2f' % (i, gt_vs_gt, gt_vs_in, gt_vs_pred))\n",
    "        \n",
    "        gt_vs_gt = structural_similarity(batch_clean[i, ...,0], batch_clean[i, ...,0], data_range=1.0)\n",
    "        gt_vs_in  = structural_similarity(batch_clean[i, ...,0], batch_speckle[i,...,0], data_range=1.0)\n",
    "        gt_vs_pred  = structural_similarity(batch_clean[i, ...,0], batch_pred[i,...,0], data_range=1.0)\n",
    "        print('   %i  \\t\\t  PSNR \\t\\t             %.2f             \\t\\t             %.2f      \\t\\t             %.2f' % (i, gt_vs_gt, gt_vs_in, gt_vs_pred))\n",
    "        print('-------------------------------------------------------------------------------------------------------------------------------------------')"
   ]
  },
  {
   "cell_type": "code",
   "execution_count": null,
   "id": "c8ab449e-50d1-409c-8a6a-fdb0d7aa30c8",
   "metadata": {},
   "outputs": [],
   "source": [
    "import sys\n",
    "sys.path.append('speckle2void')\n",
    "sys.path.append('SAR2SAR-GRD-test')\n",
    "sys.path.append('CNN-NLM')\n",
    "sys.path.insert(0, './libraries')"
   ]
  },
  {
   "cell_type": "code",
   "execution_count": null,
   "id": "0c6f39c9-1eff-45b5-8876-3f5fe49bc23e",
   "metadata": {},
   "outputs": [],
   "source": [
    "handler = DatasetHandler('dataset')\n",
    "print(\"Training dataset size: \", len(handler.train_paths))\n",
    "print(\"Validation dataset size: \", len(handler.val_paths))\n",
    "print(\"Testing dataset size: \", len(handler.test_paths))"
   ]
  },
  {
   "cell_type": "code",
   "execution_count": null,
   "id": "38377402-f872-42ea-b19b-c6064c585ab1",
   "metadata": {},
   "outputs": [],
   "source": [
    "IMG_SHAPE = (96,96,1)"
   ]
  },
  {
   "cell_type": "code",
   "execution_count": null,
   "id": "6e7fcff0-23fe-4207-94a5-b9f0aa6f6fd6",
   "metadata": {},
   "outputs": [],
   "source": [
    "batch_speckle, batch_clean = handler.data_loader_v2(\n",
    "    paths      = handler.test_paths, \n",
    "    img_shape  = IMG_SHAPE)"
   ]
  },
  {
   "cell_type": "markdown",
   "id": "a5ef6a92-f368-4ad1-8d59-18649b2251dd",
   "metadata": {},
   "source": [
    "# Speckle 2 void"
   ]
  },
  {
   "cell_type": "code",
   "execution_count": null,
   "id": "8d0a28bc-3950-473e-93bc-d3be06fd08ab",
   "metadata": {},
   "outputs": [],
   "source": [
    "import os\n",
    "os.environ[\"CUDA_DEVICE_ORDER\"]=\"PCI_BUS_ID\"   # see issue #152\n",
    "os.environ[\"CUDA_VISIBLE_DEVICES\"]=\"1\""
   ]
  },
  {
   "cell_type": "code",
   "execution_count": null,
   "id": "0a1aab58-5485-439f-ae4b-8a49062fd8a2",
   "metadata": {},
   "outputs": [],
   "source": [
    "import tensorflow.compat.v1 as tf\n",
    "tf.disable_v2_behavior()\n",
    "from Speckle2Void import Speckle2V"
   ]
  },
  {
   "cell_type": "code",
   "execution_count": null,
   "id": "58791d61-e00d-485f-bcc5-c5dc29b69f89",
   "metadata": {},
   "outputs": [],
   "source": [
    "tf.reset_default_graph()\n",
    "batch_size=16\n",
    "\n",
    "dir_train = None\n",
    "dir_test = None\n",
    "\n",
    "file_checkpoint = 'speckle2void/s2v_checkpoint/model.ckpt-299999'#None for the latest checkpoint\n",
    "\n",
    "model = Speckle2V(dir_train,\n",
    "                  dir_test,\n",
    "                  file_checkpoint,\n",
    "                  batch_size=batch_size,\n",
    "                  patch_size=64,\n",
    "                  model_name='speckle2void',\n",
    "                  lr=1e-04, \n",
    "                  steps_per_epoch=2000,\n",
    "                  k_penalty_tv=5e-05,\n",
    "                  shift_list=[3,1],\n",
    "                  prob = [0.9,0.1],\n",
    "                  clip=1,\n",
    "                  norm=1,\n",
    "                  L_noise=1)   "
   ]
  },
  {
   "cell_type": "code",
   "execution_count": null,
   "id": "97b54299-4053-4a6a-9ba3-a517c130a2b0",
   "metadata": {
    "tags": []
   },
   "outputs": [],
   "source": [
    "model.build_inference()\n",
    "model.load_weights()"
   ]
  },
  {
   "cell_type": "code",
   "execution_count": null,
   "id": "1287cea4-5cde-43ec-b5d7-4be4e9140623",
   "metadata": {},
   "outputs": [],
   "source": [
    "batch_pred = model.predict(batch_speckle)"
   ]
  },
  {
   "cell_type": "code",
   "execution_count": null,
   "id": "01fbd5af-c26a-4cb4-b85f-2eebfbef1b17",
   "metadata": {
    "tags": []
   },
   "outputs": [],
   "source": [
    "plot_model_results(batch_speckle[:,:64,:64,...], batch_clean[:,:64,:64,...], batch_pred[:,:64,:64,...])"
   ]
  },
  {
   "cell_type": "code",
   "execution_count": null,
   "id": "7672a1c2-7d50-444e-83fe-33c9e4b44e8c",
   "metadata": {
    "tags": []
   },
   "outputs": [],
   "source": [
    "compute_metrics(batch_speckle[:,:64,:64,...], batch_clean[:,:64,:64,...], batch_pred[:,:64,:64,...])"
   ]
  },
  {
   "cell_type": "markdown",
   "id": "8ba8ceb5-6dab-4ba1-9785-38f9021c92aa",
   "metadata": {},
   "source": [
    "# SAR2SAR"
   ]
  },
  {
   "cell_type": "code",
   "execution_count": null,
   "id": "7a308cbc-09af-40ae-9332-f670772fa616",
   "metadata": {},
   "outputs": [],
   "source": [
    "IMG_SHAPE = (256,256,1)"
   ]
  },
  {
   "cell_type": "code",
   "execution_count": null,
   "id": "d44c1674-89f0-4dec-b6cf-d4cdc9c4e8ac",
   "metadata": {},
   "outputs": [],
   "source": [
    "batch_speckle, batch_clean = handler.data_loader_v2(\n",
    "    paths      = handler.test_paths, \n",
    "    img_shape  = IMG_SHAPE)"
   ]
  },
  {
   "cell_type": "code",
   "execution_count": null,
   "id": "b35b1fb6-4d84-4830-839a-da930670af8f",
   "metadata": {},
   "outputs": [],
   "source": [
    "import tensorflow.compat.v1 as tf\n",
    "tf.disable_v2_behavior()\n",
    "from model import denoiser\n",
    "\n",
    "\n",
    "with tf.Session() as sess:\n",
    "    model = denoiser(sess)\n",
    "    model.load('SAR2SAR-GRD-test/checkpoint')\n",
    "    Y_ = tf.placeholder(tf.float32, [None, None, None, 1],\n",
    "                                 name='clean_image')\n",
    "    pred = sess.run([model.Y], feed_dict={model.Y_: batch_speckle})"
   ]
  },
  {
   "cell_type": "code",
   "execution_count": null,
   "id": "0ad621b2-ebe8-43e8-8a9d-6891cfd25290",
   "metadata": {
    "tags": []
   },
   "outputs": [],
   "source": [
    "plot_model_results(batch_speckle[:,:64,:64,...], batch_clean[:,:64,:64,...], pred[0][:,:64,:64,...])\n",
    "compute_metrics(batch_speckle[:,:64,:64,...], batch_clean[:,:64,:64,...], pred[0][:,:64,:64,...])"
   ]
  },
  {
   "cell_type": "markdown",
   "id": "644af88d-46b7-454e-82ca-6176dc7b9eb7",
   "metadata": {},
   "source": [
    "# CNN-NLM"
   ]
  },
  {
   "cell_type": "code",
   "execution_count": null,
   "id": "da0b5d25-8780-44d7-b669-efde6cacb335",
   "metadata": {
    "tags": []
   },
   "outputs": [],
   "source": [
    "!pip install git+https://github.com/szagoruyko/pyinn.git@master"
   ]
  },
  {
   "cell_type": "code",
   "execution_count": null,
   "id": "e99ec711-224e-43ac-ae19-1b59a052189b",
   "metadata": {},
   "outputs": [],
   "source": [
    "sys.path.append('CNN-NLM')\n",
    "sys.path.append('CNN-NLM/utils')"
   ]
  },
  {
   "cell_type": "code",
   "execution_count": null,
   "id": "e2ce1e9c-ffbc-4667-b388-6873260e231b",
   "metadata": {},
   "outputs": [],
   "source": [
    "import models.DnCNN as DnCNN\n",
    "with open(\"CNN-NLM/weights/sar_sync/SAR_CNN_e50.pkl\", \"rb\") as fid:\n",
    "    dncnn_opt = dict(**pickle.load(fid).dncnn)\n",
    "    dncnn_opt[\"residual\"] = True\n",
    "net = DnCNN.DnCNN(1, 1, **dncnn_opt)\n",
    "net.load_state_dict(torch.load('CNN-NLM/weights/sar_sync/SAR_CNN_e50.t7', map_location=torch.device('cpu'))['net'])\n",
    "pad = 0\n",
    "\n",
    "def preprocessing_int2net(img):\n",
    "    return img.abs().log()/2\n",
    "\n",
    "def postprocessing_net2int(img):\n",
    "    return (2*img).exp()"
   ]
  },
  {
   "cell_type": "code",
   "execution_count": null,
   "id": "4908b10b-1e10-4e55-9a97-0bb48415d7ce",
   "metadata": {},
   "outputs": [],
   "source": [
    "out = np.zeros((batch_speckle.shape[0], 64, 64, 1))\n",
    "\n",
    "for i in range(batch_speckle.shape[0]):\n",
    "    noise_int  = np.float32((1/256)+batch_speckle[i,:64,:64,0])\n",
    "    use_cuda = False\n",
    "\n",
    "    with torch.no_grad():\n",
    "        if use_cuda:\n",
    "            net = net.cuda()\n",
    "\n",
    "        noise_int  = torch.from_numpy(noise_int)[None, None, :, :]   \n",
    "        noisy_pad = noise_int**2\n",
    "        noisy_pad =  preprocessing_int2net(noisy_pad)\n",
    "\n",
    "        if use_cuda:\n",
    "            pred_int = net(noisy_pad.cuda()).cpu()\n",
    "        else:\n",
    "            pred_int = net(noisy_pad)\n",
    "\n",
    "        pred_int = postprocessing_net2int(pred_int)\n",
    "        pred_amp  = pred_int.abs().sqrt()\n",
    "\n",
    "\n",
    "\n",
    "        out[i,...,0]   = pred_amp[0,0,::].numpy()\n",
    "    "
   ]
  },
  {
   "cell_type": "code",
   "execution_count": null,
   "id": "40c625f7-8a65-4dfb-9ffd-f6163c2b09ab",
   "metadata": {},
   "outputs": [],
   "source": [
    "plot_model_results(batch_speckle[:,:64,:64,...], batch_clean[:,:64,:64,...], out)\n",
    "compute_metrics(batch_speckle[:,:64,:64,...], batch_clean[:,:64,:64,...], out)"
   ]
  },
  {
   "cell_type": "code",
   "execution_count": null,
   "id": "d94302ac-bddf-4644-89be-b0408294e97d",
   "metadata": {},
   "outputs": [],
   "source": []
  }
 ],
 "metadata": {
  "kernelspec": {
   "display_name": "Python 3",
   "language": "python",
   "name": "python3"
  },
  "language_info": {
   "codemirror_mode": {
    "name": "ipython",
    "version": 3
   },
   "file_extension": ".py",
   "mimetype": "text/x-python",
   "name": "python",
   "nbconvert_exporter": "python",
   "pygments_lexer": "ipython3",
   "version": "3.6.8"
  }
 },
 "nbformat": 4,
 "nbformat_minor": 5
}
