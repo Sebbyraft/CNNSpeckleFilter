{
 "cells": [
  {
   "cell_type": "code",
   "execution_count": null,
   "id": "8ff83201-3561-456c-878a-713948abe909",
   "metadata": {},
   "outputs": [],
   "source": [
    "from Model import CNNSpeckleFilter\n",
    "import numpy as np"
   ]
  },
  {
   "cell_type": "markdown",
   "id": "bdd738f5-e7cb-45c3-841e-2cbcdec16817",
   "metadata": {},
   "source": [
    "## Load Data"
   ]
  },
  {
   "cell_type": "code",
   "execution_count": null,
   "id": "6b10691a-d3c2-4d39-a4f1-30b0ad8bd60c",
   "metadata": {},
   "outputs": [],
   "source": [
    "def load_data(path):\n",
    "    \n",
    "    img  = None\n",
    "    \n",
    "    # Your loading function\n",
    "    \n",
    "    return img"
   ]
  },
  {
   "cell_type": "code",
   "execution_count": null,
   "id": "265194ea-ddbf-431b-99f5-f4e49c549e67",
   "metadata": {},
   "outputs": [],
   "source": [
    "def reject_outliers(s1, percentile = 95):\n",
    "    p = np.percentile(s1, percentile)\n",
    "    s1 = np.clip(s1, 0.0, p)\n",
    "\n",
    "    return s1\n",
    "    \n",
    "def min_max(s1):\n",
    "    return (s1 - s1.min()) / (s1.max() - s1.min())"
   ]
  },
  {
   "cell_type": "markdown",
   "id": "fbc2fb4b-97e2-444e-a1df-fb0e8f779f25",
   "metadata": {},
   "source": [
    "### Load the image"
   ]
  },
  {
   "cell_type": "code",
   "execution_count": null,
   "id": "1cb59e9f-8dcc-4b83-b9aa-20421b2b653f",
   "metadata": {},
   "outputs": [],
   "source": [
    "img = load_data(your_path)\n",
    "img = reject_outliers(img, percentile = your_percentile)\n",
    "img = min_max(img)"
   ]
  },
  {
   "cell_type": "markdown",
   "id": "2762276d-3c8c-4770-8697-d9c4dd5731a5",
   "metadata": {},
   "source": [
    "### Load the model"
   ]
  },
  {
   "cell_type": "code",
   "execution_count": null,
   "id": "38cfdca2-9f01-415d-aac3-113ffbd0bd38",
   "metadata": {},
   "outputs": [],
   "source": [
    "N_LAYER = 30\n",
    "speckle_filter = CNNSpeckleFilter(input_shape=IMG_SHAPE, n_layers=N_LAYER)\n",
    "speckle_filter.model.load_weights('weights/new_model_30.h5')"
   ]
  },
  {
   "cell_type": "markdown",
   "id": "54720a3a-5b30-4f55-8da7-e1c404bdf703",
   "metadata": {},
   "source": [
    "### Apply the model\n",
    "\n",
    "**Make sure that img has a shape of (1, 256, 256, 1) -> (batch_size, width, height, polarization)**"
   ]
  },
  {
   "cell_type": "code",
   "execution_count": null,
   "id": "a009b975-0d74-4c78-9a07-13d4f380d604",
   "metadata": {},
   "outputs": [],
   "source": [
    "pred = speckle_filter.model.predict(img)"
   ]
  }
 ],
 "metadata": {
  "kernelspec": {
   "display_name": "tf",
   "language": "python",
   "name": "tf"
  },
  "language_info": {
   "codemirror_mode": {
    "name": "ipython",
    "version": 3
   },
   "file_extension": ".py",
   "mimetype": "text/x-python",
   "name": "python",
   "nbconvert_exporter": "python",
   "pygments_lexer": "ipython3",
   "version": "3.8.0"
  }
 },
 "nbformat": 4,
 "nbformat_minor": 5
}
