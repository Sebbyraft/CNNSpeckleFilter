{
 "cells": [
  {
   "cell_type": "code",
   "execution_count": null,
   "id": "turkish-medication",
   "metadata": {},
   "outputs": [],
   "source": [
    "%load_ext autoreload\n",
    "%autoreload 2"
   ]
  },
  {
   "cell_type": "markdown",
   "id": "junior-agriculture",
   "metadata": {},
   "source": [
    "# CNN Speckle filter"
   ]
  },
  {
   "cell_type": "code",
   "execution_count": null,
   "id": "gothic-journalist",
   "metadata": {},
   "outputs": [],
   "source": [
    "from DatasetHandler import DatasetHandler\n",
    "from CNNSpeckleFilter import CNNSpeckleFilter\n",
    "from utils import *"
   ]
  },
  {
   "cell_type": "markdown",
   "id": "impressed-melissa",
   "metadata": {},
   "source": [
    "## Load the dataset"
   ]
  },
  {
   "cell_type": "code",
   "execution_count": null,
   "id": "behavioral-official",
   "metadata": {},
   "outputs": [],
   "source": [
    "handler = DatasetHandler('dataset')\n",
    "print(\"Training dataset size: \", len(handler.train_paths))\n",
    "print(\"Validation dataset size: \", len(handler.val_paths))\n",
    "print(\"testing dataset size: \", len(handler.test_paths))"
   ]
  },
  {
   "cell_type": "code",
   "execution_count": null,
   "id": "mighty-capacity",
   "metadata": {},
   "outputs": [],
   "source": [
    "batch_speckle, batch_clean = next(iter(handler.data_loader(\n",
    "    paths      = handler.train_paths, \n",
    "    batch_size = 1, \n",
    "    img_shape  = (256, 256))\n",
    "))"
   ]
  },
  {
   "cell_type": "code",
   "execution_count": null,
   "id": "compatible-therapist",
   "metadata": {},
   "outputs": [],
   "source": [
    "plot_dataset(batch_speckle, batch_clean)"
   ]
  },
  {
   "cell_type": "markdown",
   "id": "tender-operations",
   "metadata": {},
   "source": [
    "## CNN speckle filter training"
   ]
  },
  {
   "cell_type": "markdown",
   "id": "regular-aquatic",
   "metadata": {},
   "source": [
    "### Initialize the model"
   ]
  },
  {
   "cell_type": "code",
   "execution_count": null,
   "id": "environmental-dealer",
   "metadata": {},
   "outputs": [],
   "source": [
    "speckle_filter = CNNSpeckleFilter(input_shape=(256,256,1), n_layers=12)\n",
    "speckle_filter.model.summary()"
   ]
  },
  {
   "cell_type": "markdown",
   "id": "micro-boutique",
   "metadata": {},
   "source": [
    "### Train the model"
   ]
  },
  {
   "cell_type": "code",
   "execution_count": null,
   "id": "alike-breast",
   "metadata": {},
   "outputs": [],
   "source": [
    "epochs = 100\n",
    "batch_size = 16\n",
    "\n",
    "train_gen = handler.data_loader(\n",
    "    paths      = handler.train_paths, \n",
    "    batch_size = batch_size, \n",
    "    img_shape  = (256, 256))\n",
    "\n",
    "val_gen = handler.data_loader(\n",
    "    paths      = handler.val_paths, \n",
    "    batch_size = batch_size, \n",
    "    img_shape  = (256, 256))\n",
    "\n",
    "train_step = len(handler.train_paths)//batch_size\n",
    "val_step = len(handler.val_paths)//batch_size\n",
    "\n",
    "history = speckle_filter.train_model(epochs, train_gen, val_gen, train_step, val_step)"
   ]
  },
  {
   "cell_type": "markdown",
   "id": "humanitarian-express",
   "metadata": {},
   "source": [
    "### Plot training history"
   ]
  },
  {
   "cell_type": "code",
   "execution_count": null,
   "id": "greater-boost",
   "metadata": {},
   "outputs": [],
   "source": [
    "plot_history(history)"
   ]
  },
  {
   "cell_type": "markdown",
   "id": "israeli-showcase",
   "metadata": {},
   "source": [
    "## Test the model"
   ]
  },
  {
   "cell_type": "markdown",
   "id": "grave-starter",
   "metadata": {},
   "source": [
    "### Plot results"
   ]
  },
  {
   "cell_type": "code",
   "execution_count": null,
   "id": "european-regular",
   "metadata": {},
   "outputs": [],
   "source": [
    "test_gen = handler.data_loader(\n",
    "    paths      = handler.test_paths, \n",
    "    batch_size = 5, \n",
    "    img_shape  = (256, 256))\n",
    "\n",
    "batch_speckle, batch_clean = next(iter(test_gen))\n",
    "batch_pred = speckle_filter.model.predict(batch_speckle)"
   ]
  },
  {
   "cell_type": "code",
   "execution_count": null,
   "id": "coated-fellow",
   "metadata": {},
   "outputs": [],
   "source": [
    "plot_model_results(batch_speckle, batch_clean, batch_pred)"
   ]
  },
  {
   "cell_type": "markdown",
   "id": "technical-pound",
   "metadata": {},
   "source": [
    "### Compute metrics"
   ]
  },
  {
   "cell_type": "code",
   "execution_count": null,
   "id": "nuclear-rental",
   "metadata": {},
   "outputs": [],
   "source": [
    "compute_metrics(batch_speckle, batch_clean, batch_pred)"
   ]
  }
 ],
 "metadata": {
  "kernelspec": {
   "display_name": "Python 3",
   "language": "python",
   "name": "python3"
  },
  "language_info": {
   "codemirror_mode": {
    "name": "ipython",
    "version": 3
   },
   "file_extension": ".py",
   "mimetype": "text/x-python",
   "name": "python",
   "nbconvert_exporter": "python",
   "pygments_lexer": "ipython3",
   "version": "3.6.8"
  }
 },
 "nbformat": 4,
 "nbformat_minor": 5
}
